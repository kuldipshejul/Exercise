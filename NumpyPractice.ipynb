{
 "cells": [
  {
   "cell_type": "code",
   "execution_count": 3,
   "metadata": {},
   "outputs": [],
   "source": [
    "import numpy as np"
   ]
  },
  {
   "cell_type": "code",
   "execution_count": 4,
   "metadata": {},
   "outputs": [
    {
     "name": "stdout",
     "output_type": "stream",
     "text": [
      "[ 0  1  2  3  4  5  6  7  8  9 10 11 12 13 14 15 16 17 18 19 20 21 22 23\n",
      " 24 25 26 27 28 29 30 31 32 33 34 35 36 37 38 39 40 41 42 43 44 45 46 47\n",
      " 48 49 50 51 52 53 54 55 56 57 58 59 60 61 62 63 64 65 66 67 68 69 70 71\n",
      " 72 73 74 75 76 77 78 79 80 81 82 83 84 85 86 87 88 89 90 91 92 93 94 95\n",
      " 96 97 98 99]\n"
     ]
    }
   ],
   "source": [
    "a = np.arange(100)\n",
    "print(a)"
   ]
  },
  {
   "cell_type": "code",
   "execution_count": 5,
   "metadata": {},
   "outputs": [],
   "source": [
    "array1=np.array([51,52,3,54,55,56,57,58,59,60,61,62,63,64,65,6667,68,69,70,71,72,73,74,75,76,77,78,79,80,81,82,83,84,85,86,87,88,89,90,91,92,93,94,95,96,97,98,99])"
   ]
  },
  {
   "cell_type": "code",
   "execution_count": 7,
   "metadata": {},
   "outputs": [
    {
     "data": {
      "text/plain": [
       "numpy.ndarray"
      ]
     },
     "execution_count": 7,
     "metadata": {},
     "output_type": "execute_result"
    }
   ],
   "source": [
    "type(array1)"
   ]
  },
  {
   "cell_type": "code",
   "execution_count": 8,
   "metadata": {},
   "outputs": [
    {
     "data": {
      "text/plain": [
       "array([  102,   104,     6,   108,   110,   112,   114,   116,   118,\n",
       "         120,   122,   124,   126,   128,   130, 13334,   136,   138,\n",
       "         140,   142,   144,   146,   148,   150,   152,   154,   156,\n",
       "         158,   160,   162,   164,   166,   168,   170,   172,   174,\n",
       "         176,   178,   180,   182,   184,   186,   188,   190,   192,\n",
       "         194,   196,   198])"
      ]
     },
     "execution_count": 8,
     "metadata": {},
     "output_type": "execute_result"
    }
   ],
   "source": [
    "array1 * 2"
   ]
  },
  {
   "cell_type": "code",
   "execution_count": 9,
   "metadata": {},
   "outputs": [
    {
     "data": {
      "text/plain": [
       "array([False, False, False, False, False, False, False, False, False,\n",
       "       False, False, False, False, False, False,  True, False, False,\n",
       "       False, False, False, False, False, False, False, False, False,\n",
       "       False, False,  True,  True,  True,  True,  True,  True,  True,\n",
       "        True,  True,  True,  True,  True,  True,  True,  True,  True,\n",
       "        True,  True,  True])"
      ]
     },
     "execution_count": 9,
     "metadata": {},
     "output_type": "execute_result"
    }
   ],
   "source": [
    "array1 > 80"
   ]
  },
  {
   "cell_type": "code",
   "execution_count": 11,
   "metadata": {},
   "outputs": [
    {
     "name": "stdout",
     "output_type": "stream",
     "text": [
      "[6667   81   82   83   84   85   86   87   88   89   90   91   92   93\n",
      "   94   95   96   97   98   99]\n"
     ]
    }
   ],
   "source": [
    "array2 = array1[array1 > 80]\n",
    "print(array2)"
   ]
  },
  {
   "cell_type": "code",
   "execution_count": 13,
   "metadata": {},
   "outputs": [
    {
     "name": "stdout",
     "output_type": "stream",
     "text": [
      "[52 54 56 58 60 62 64 68 70 72 74 76 78 80 82 84 86 88 90 92 94 96 98]\n"
     ]
    }
   ],
   "source": [
    "array2 = array1[array1 % 2 == 0]\n",
    "print(array2)"
   ]
  },
  {
   "cell_type": "code",
   "execution_count": 15,
   "metadata": {},
   "outputs": [],
   "source": [
    "score = np.loadtxt(\"C:\\\\Users\\\\Vaijnath Shejul\\\\Downloads\\\\download\\\\survey.txt\", dtype = \"int\")"
   ]
  },
  {
   "cell_type": "code",
   "execution_count": 16,
   "metadata": {},
   "outputs": [],
   "source": [
    "score = np.loadtxt(\"survey.txt\", dtype = \"int\")"
   ]
  },
  {
   "cell_type": "code",
   "execution_count": 23,
   "metadata": {},
   "outputs": [
    {
     "name": "stdout",
     "output_type": "stream",
     "text": [
      "(1167,)\n",
      "1\n"
     ]
    }
   ],
   "source": [
    "print(score.shape)\n",
    "print(score.ndim)"
   ]
  },
  {
   "cell_type": "code",
   "execution_count": 24,
   "metadata": {},
   "outputs": [
    {
     "data": {
      "text/plain": [
       "array([ 7, 10,  5,  9,  9])"
      ]
     },
     "execution_count": 24,
     "metadata": {},
     "output_type": "execute_result"
    }
   ],
   "source": [
    "score[:5]"
   ]
  },
  {
   "cell_type": "code",
   "execution_count": 34,
   "metadata": {},
   "outputs": [
    {
     "name": "stdout",
     "output_type": "stream",
     "text": [
      "[5 4 4 5 1 5 5 1 4 5 4 4 4 5 1 4 1 4 1 5 5 1 1 4 1 5 4 1 1 4 1 5 1 4 4 1 1\n",
      " 1 1 1 1 1 4 1 1 5 5 5 4 4 1 4 1 4 1 5 1 1 5 4 4 4 4 1 4 5 4 4 1 1 5 5 1 5\n",
      " 1 5 5 4 5 4 1 1 1 1 4 1 4 4 5 4 1 1 1 1 5 4 5 5 4 1 5 1 4 4 1 1 1 4 4 5 5\n",
      " 4 5 5 5 1 4 1 5 5 1 5 1 1 5 5 4 4 1 4 4 4 1 1 4 4 4 5 5 1 1 4 1 4 1 4 1 4\n",
      " 1 4 1 5 4 4 5 1 4 5 5 5 1 5 4 1 1 5 5 5 4 5 4 4 1 4 4 4 4 5 1 5 5 1 4 4 5\n",
      " 1 1 4 5 5 5 1 4 5 5 4 1 5 5 5 1 1 5 5 1 1 1 4 5 5 4 4 4 5 1 4 1 4 5 4 5 5\n",
      " 1 5 1 5 5 1 4 5 5 4 1 5 1 4 1 4 1 1 1 1 1 1 4 1 5 4 5 1 5 1 5 4 4 4 4 5 5\n",
      " 1 4 1 5 5 1 4 1 1 4 4 4 4 1 4 1 1 4 1 5 4 1 1 5 4 5 4 4 4 1 5 5 1 4 5 4 4\n",
      " 4 1 4 1 4 4 4 5 1 1 1 4 5 5 1 5 4 5 5 4 1 1 5 5 5 1 4 5 4 5 5 5 1 4 1 5]\n"
     ]
    }
   ],
   "source": [
    "detractors = score[ score < 7]\n",
    "print(detractors)"
   ]
  },
  {
   "cell_type": "code",
   "execution_count": 27,
   "metadata": {},
   "outputs": [
    {
     "name": "stdout",
     "output_type": "stream",
     "text": [
      "332\n"
     ]
    }
   ],
   "source": [
    "num_detractors = len(detractors)\n",
    "print(num_detractors)"
   ]
  },
  {
   "cell_type": "code",
   "execution_count": 28,
   "metadata": {},
   "outputs": [],
   "source": [
    "total = len(score)"
   ]
  },
  {
   "cell_type": "code",
   "execution_count": 30,
   "metadata": {},
   "outputs": [
    {
     "name": "stdout",
     "output_type": "stream",
     "text": [
      "0.28449014567266495\n"
     ]
    }
   ],
   "source": [
    "perc_detractors = num_detractors/total\n",
    "print(perc_detractors)"
   ]
  },
  {
   "cell_type": "code",
   "execution_count": 36,
   "metadata": {},
   "outputs": [
    {
     "name": "stdout",
     "output_type": "stream",
     "text": [
      "[10  9  9  9  9  9 10  9  9 10  9  9  9  9  9  9  9 10 10  9 10  9 10  9\n",
      "  9 10 10  9 10  9 10 10 10  9  9 10 10 10  9 10  9 10  9  9  9 10  9  9\n",
      "  9  9  9  9 10  9  9  9 10  9 10  9  9  9  9  9 10 10  9 10  9  9 10  9\n",
      "  9 10  9  9  9  9  9  9  9  9  9  9  9 10  9  9  9  9  9  9  9  9 10  9\n",
      "  9  9  9  9 10 10  9 10 10 10 10  9 10  9  9  9  9  9  9  9 10  9 10  9\n",
      " 10  9 10 10 10  9  9 10 10  9  9  9  9 10  9  9  9  9 10 10  9  9  9 10\n",
      "  9  9  9  9  9 10  9  9  9 10  9 10 10  9  9  9  9 10  9 10  9  9  9  9\n",
      " 10  9 10  9  9  9  9  9  9  9  9  9  9  9 10 10  9  9  9 10  9 10 10 10\n",
      " 10 10  9  9  9  9 10 10 10  9  9 10  9 10 10 10 10  9 10 10  9 10  9  9\n",
      "  9  9 10  9 10  9 10  9  9  9  9 10  9  9  9  9  9 10  9 10 10  9 10 10\n",
      " 10  9  9  9  9  9  9 10  9  9 10  9 10 10  9  9  9 10 10 10 10  9  9  9\n",
      " 10 10  9 10  9  9  9 10  9  9  9  9  9  9  9  9  9  9 10  9  9  9 10  9\n",
      " 10  9 10  9 10  9  9 10 10  9  9  9 10  9  9 10  9  9  9  9  9  9 10 10\n",
      "  9 10  9  9  9  9 10  9  9  9  9 10  9 10  9 10  9 10 10  9 10 10  9 10\n",
      "  9  9  9  9  9 10  9 10 10  9 10 10  9  9 10  9 10 10  9 10 10 10  9  9\n",
      "  9 10  9  9  9 10  9  9  9  9  9 10  9  9  9 10  9  9  9  9  9 10  9 10\n",
      "  9  9 10  9  9  9  9  9  9 10  9  9  9  9  9  9  9  9  9  9 10  9 10  9\n",
      "  9  9  9  9  9  9  9  9  9  9  9  9  9 10 10  9  9  9  9 10  9 10  9 10\n",
      " 10  9  9 10  9 10 10 10  9  9  9 10 10  9  9  9 10  9  9  9  9 10  9 10\n",
      "  9  9 10  9  9  9 10  9  9  9  9 10  9  9  9  9  9  9 10  9 10 10  9  9\n",
      "  9 10 10 10 10  9  9 10 10  9 10  9 10  9 10  9  9 10  9 10 10  9  9  9\n",
      "  9  9  9  9  9  9  9  9  9  9  9  9  9  9  9  9  9  9  9  9  9  9  9 10\n",
      " 10  9  9  9  9 10 10  9 10 10  9 10 10  9 10 10 10  9  9 10 10 10  9  9\n",
      " 10 10  9  9  9  9  9  9 10 10 10 10 10 10  9  9  9  9 10 10  9  9  9  9\n",
      "  9 10 10  9 10 10  9 10 10  9 10 10  9 10  9 10 10  9 10 10  9  9  9  9\n",
      " 10  9  9 10 10 10 10  9 10]\n"
     ]
    }
   ],
   "source": [
    "promoters = score[ score > 8]\n",
    "num_promoters = len(promoters)\n",
    "print(promoters)"
   ]
  },
  {
   "cell_type": "code",
   "execution_count": 39,
   "metadata": {},
   "outputs": [
    {
     "name": "stdout",
     "output_type": "stream",
     "text": [
      "0.5218508997429306\n"
     ]
    }
   ],
   "source": [
    "perc_promoters = num_promoters/total\n",
    "print(perc_promoters)"
   ]
  },
  {
   "cell_type": "code",
   "execution_count": 40,
   "metadata": {},
   "outputs": [
    {
     "name": "stdout",
     "output_type": "stream",
     "text": [
      "0.2373607540702657\n"
     ]
    }
   ],
   "source": [
    "nps = perc_promoters - perc_detractors\n",
    "print(nps)"
   ]
  },
  {
   "cell_type": "code",
   "execution_count": 41,
   "metadata": {},
   "outputs": [
    {
     "data": {
      "text/plain": [
       "1"
      ]
     },
     "execution_count": 41,
     "metadata": {},
     "output_type": "execute_result"
    }
   ],
   "source": [
    "score.min()"
   ]
  },
  {
   "cell_type": "code",
   "execution_count": 42,
   "metadata": {},
   "outputs": [
    {
     "data": {
      "text/plain": [
       "10"
      ]
     },
     "execution_count": 42,
     "metadata": {},
     "output_type": "execute_result"
    }
   ],
   "source": [
    "score.max()"
   ]
  },
  {
   "cell_type": "code",
   "execution_count": 44,
   "metadata": {},
   "outputs": [
    {
     "name": "stdout",
     "output_type": "stream",
     "text": [
      "0.24\n"
     ]
    }
   ],
   "source": [
    "ans = np.round(nps, 2)\n",
    "print(ans)"
   ]
  },
  {
   "cell_type": "code",
   "execution_count": 45,
   "metadata": {},
   "outputs": [],
   "source": [
    "data = np.loadtxt(\"fit.txt\", dtype = 'str')"
   ]
  },
  {
   "cell_type": "code",
   "execution_count": 46,
   "metadata": {},
   "outputs": [
    {
     "name": "stdout",
     "output_type": "stream",
     "text": [
      "[['06-10-2017' '5464' 'Neutral' '181' '5' 'Inactive']\n",
      " ['07-10-2017' '6041' 'Sad' '197' '8' 'Inactive']\n",
      " ['08-10-2017' '25' 'Sad' '0' '5' 'Inactive']\n",
      " ['09-10-2017' '5461' 'Sad' '174' '4' 'Inactive']\n",
      " ['10-10-2017' '6915' 'Neutral' '223' '5' 'Active']\n",
      " ['11-10-2017' '4545' 'Sad' '149' '6' 'Inactive']\n",
      " ['12-10-2017' '4340' 'Sad' '140' '6' 'Inactive']\n",
      " ['13-10-2017' '1230' 'Sad' '38' '7' 'Inactive']\n",
      " ['14-10-2017' '61' 'Sad' '1' '5' 'Inactive']\n",
      " ['15-10-2017' '1258' 'Sad' '40' '6' 'Inactive']\n",
      " ['16-10-2017' '3148' 'Sad' '101' '8' 'Inactive']\n",
      " ['17-10-2017' '4687' 'Sad' '152' '5' 'Inactive']\n",
      " ['18-10-2017' '4732' 'Happy' '150' '6' 'Active']\n",
      " ['19-10-2017' '3519' 'Sad' '113' '7' 'Inactive']\n",
      " ['20-10-2017' '1580' 'Sad' '49' '5' 'Inactive']\n",
      " ['21-10-2017' '2822' 'Sad' '86' '6' 'Inactive']\n",
      " ['22-10-2017' '181' 'Sad' '6' '8' 'Inactive']\n",
      " ['23-10-2017' '3158' 'Neutral' '99' '5' 'Inactive']\n",
      " ['24-10-2017' '4383' 'Neutral' '143' '4' 'Inactive']\n",
      " ['25-10-2017' '3881' 'Neutral' '125' '5' 'Inactive']\n",
      " ['26-10-2017' '4037' 'Neutral' '129' '6' 'Inactive']\n",
      " ['27-10-2017' '202' 'Neutral' '6' '8' 'Inactive']\n",
      " ['28-10-2017' '292' 'Neutral' '9' '5' 'Inactive']\n",
      " ['29-10-2017' '330' 'Happy' '10' '6' 'Inactive']\n",
      " ['30-10-2017' '2209' 'Neutral' '72' '5' 'Inactive']\n",
      " ['31-10-2017' '4550' 'Happy' '150' '8' 'Active']\n",
      " ['01-11-2017' '4435' 'Happy' '141' '5' 'Inactive']\n",
      " ['02-11-2017' '4779' 'Happy' '156' '4' 'Inactive']\n",
      " ['03-11-2017' '1831' 'Happy' '57' '5' 'Inactive']\n",
      " ['04-11-2017' '2255' 'Happy' '72' '4' 'Inactive']\n",
      " ['05-11-2017' '539' 'Happy' '17' '5' 'Active']\n",
      " ['06-11-2017' '5464' 'Happy' '181' '4' 'Inactive']\n",
      " ['07-11-2017' '6041' 'Neutral' '197' '3' 'Inactive']\n",
      " ['08-11-2017' '4068' 'Happy' '131' '2' 'Inactive']\n",
      " ['09-11-2017' '4683' 'Happy' '154' '9' 'Inactive']\n",
      " ['10-11-2017' '4033' 'Happy' '137' '5' 'Inactive']\n",
      " ['11-11-2017' '6314' 'Happy' '193' '6' 'Active']\n",
      " ['12-11-2017' '614' 'Happy' '19' '4' 'Active']\n",
      " ['13-11-2017' '3149' 'Happy' '101' '5' 'Active']\n",
      " ['14-11-2017' '4005' 'Happy' '139' '8' 'Active']\n",
      " ['15-11-2017' '4880' 'Happy' '164' '4' 'Active']\n",
      " ['16-11-2017' '4136' 'Happy' '137' '5' 'Active']\n",
      " ['17-11-2017' '705' 'Happy' '22' '6' 'Active']\n",
      " ['18-11-2017' '570' 'Neutral' '17' '5' 'Active']\n",
      " ['19-11-2017' '269' 'Happy' '9' '6' 'Active']\n",
      " ['20-11-2017' '4275' 'Happy' '145' '5' 'Inactive']\n",
      " ['21-11-2017' '5999' 'Happy' '192' '6' 'Inactive']\n",
      " ['22-11-2017' '4421' 'Happy' '146' '5' 'Inactive']\n",
      " ['23-11-2017' '6930' 'Happy' '234' '6' 'Inactive']\n",
      " ['24-11-2017' '5195' 'Happy' '167' '5' 'Inactive']\n",
      " ['25-11-2017' '546' 'Happy' '16' '6' 'Inactive']\n",
      " ['26-11-2017' '493' 'Happy' '17' '7' 'Active']\n",
      " ['27-11-2017' '995' 'Happy' '32' '6' 'Active']\n",
      " ['28-11-2017' '1163' 'Neutral' '35' '7' 'Active']\n",
      " ['29-11-2017' '6676' 'Sad' '220' '6' 'Active']\n",
      " ['30-11-2017' '3608' 'Happy' '116' '5' 'Active']\n",
      " ['01-12-2017' '774' 'Happy' '23' '6' 'Active']\n",
      " ['02-12-2017' '1421' 'Happy' '44' '7' 'Active']\n",
      " ['03-12-2017' '4064' 'Happy' '131' '8' 'Active']\n",
      " ['04-12-2017' '2725' 'Happy' '86' '8' 'Active']\n",
      " ['05-12-2017' '5934' 'Happy' '194' '7' 'Active']\n",
      " ['06-12-2017' '1867' 'Happy' '60' '8' 'Active']\n",
      " ['07-12-2017' '3721' 'Sad' '121' '5' 'Active']\n",
      " ['08-12-2017' '2374' 'Neutral' '76' '4' 'Inactive']\n",
      " ['09-12-2017' '2909' 'Neutral' '93' '3' 'Active']\n",
      " ['10-12-2017' '1648' 'Sad' '53' '3' 'Active']\n",
      " ['11-12-2017' '799' 'Sad' '25' '4' 'Inactive']\n",
      " ['12-12-2017' '7102' 'Neutral' '227' '5' 'Active']\n",
      " ['13-12-2017' '3941' 'Neutral' '125' '5' 'Active']\n",
      " ['14-12-2017' '7422' 'Happy' '243' '5' 'Active']\n",
      " ['15-12-2017' '437' 'Neutral' '14' '3' 'Active']\n",
      " ['16-12-2017' '1231' 'Neutral' '39' '4' 'Active']\n",
      " ['17-12-2017' '1696' 'Sad' '55' '4' 'Inactive']\n",
      " ['18-12-2017' '4921' 'Neutral' '158' '5' 'Active']\n",
      " ['19-12-2017' '221' 'Sad' '7' '5' 'Active']\n",
      " ['20-12-2017' '6500' 'Neutral' '213' '5' 'Active']\n",
      " ['21-12-2017' '3575' 'Neutral' '116' '5' 'Active']\n",
      " ['22-12-2017' '4061' 'Sad' '129' '5' 'Inactive']\n",
      " ['23-12-2017' '651' 'Sad' '21' '5' 'Inactive']\n",
      " ['24-12-2017' '753' 'Sad' '28' '4' 'Inactive']\n",
      " ['25-12-2017' '518' 'Sad' '16' '3' 'Inactive']\n",
      " ['26-12-2017' '5537' 'Happy' '180' '4' 'Active']\n",
      " ['27-12-2017' '4108' 'Neutral' '138' '5' 'Active']\n",
      " ['28-12-2017' '5376' 'Happy' '176' '5' 'Active']\n",
      " ['29-12-2017' '3066' 'Neutral' '99' '4' 'Active']\n",
      " ['30-12-2017' '177' 'Sad' '5' '5' 'Inactive']\n",
      " ['31-12-2017' '36' 'Sad' '1' '3' 'Inactive']\n",
      " ['01-01-2018' '299' 'Sad' '10' '3' 'Inactive']\n",
      " ['02-01-2018' '1447' 'Neutral' '47' '3' 'Inactive']\n",
      " ['03-01-2018' '2599' 'Neutral' '84' '2' 'Inactive']\n",
      " ['04-01-2018' '702' 'Sad' '23' '3' 'Inactive']\n",
      " ['05-01-2018' '133' 'Sad' '4' '2' 'Inactive']\n",
      " ['06-01-2018' '153' 'Happy' '0' '8' 'Inactive']\n",
      " ['07-01-2018' '500' 'Neutral' '0' '5' 'Active']\n",
      " ['08-01-2018' '2127' 'Neutral' '0' '5' 'Inactive']\n",
      " ['09-01-2018' '2203' 'Happy' '0' '5' 'Active']]\n"
     ]
    }
   ],
   "source": [
    "print(data)"
   ]
  },
  {
   "cell_type": "code",
   "execution_count": 47,
   "metadata": {},
   "outputs": [
    {
     "data": {
      "text/plain": [
       "2"
      ]
     },
     "execution_count": 47,
     "metadata": {},
     "output_type": "execute_result"
    }
   ],
   "source": [
    "data.ndim"
   ]
  },
  {
   "cell_type": "code",
   "execution_count": 48,
   "metadata": {},
   "outputs": [
    {
     "data": {
      "text/plain": [
       "(96, 6)"
      ]
     },
     "execution_count": 48,
     "metadata": {},
     "output_type": "execute_result"
    }
   ],
   "source": [
    "data.shape"
   ]
  },
  {
   "cell_type": "code",
   "execution_count": 49,
   "metadata": {},
   "outputs": [
    {
     "data": {
      "text/plain": [
       "array(['07-10-2017', '6041', 'Sad', '197', '8', 'Inactive'], dtype='<U10')"
      ]
     },
     "execution_count": 49,
     "metadata": {},
     "output_type": "execute_result"
    }
   ],
   "source": [
    "data[1]"
   ]
  },
  {
   "cell_type": "code",
   "execution_count": 50,
   "metadata": {},
   "outputs": [
    {
     "name": "stdout",
     "output_type": "stream",
     "text": [
      "[['06-10-2017' '5464' 'Neutral' '181' '5' 'Inactive']\n",
      " ['07-10-2017' '6041' 'Sad' '197' '8' 'Inactive']\n",
      " ['08-10-2017' '25' 'Sad' '0' '5' 'Inactive']\n",
      " ['09-10-2017' '5461' 'Sad' '174' '4' 'Inactive']\n",
      " ['10-10-2017' '6915' 'Neutral' '223' '5' 'Active']]\n"
     ]
    }
   ],
   "source": [
    "print(data[:5])"
   ]
  },
  {
   "cell_type": "code",
   "execution_count": 51,
   "metadata": {},
   "outputs": [
    {
     "name": "stdout",
     "output_type": "stream",
     "text": [
      "[['06-10-2017' '07-10-2017' '08-10-2017' '09-10-2017' '10-10-2017'\n",
      "  '11-10-2017' '12-10-2017' '13-10-2017' '14-10-2017' '15-10-2017'\n",
      "  '16-10-2017' '17-10-2017' '18-10-2017' '19-10-2017' '20-10-2017'\n",
      "  '21-10-2017' '22-10-2017' '23-10-2017' '24-10-2017' '25-10-2017'\n",
      "  '26-10-2017' '27-10-2017' '28-10-2017' '29-10-2017' '30-10-2017'\n",
      "  '31-10-2017' '01-11-2017' '02-11-2017' '03-11-2017' '04-11-2017'\n",
      "  '05-11-2017' '06-11-2017' '07-11-2017' '08-11-2017' '09-11-2017'\n",
      "  '10-11-2017' '11-11-2017' '12-11-2017' '13-11-2017' '14-11-2017'\n",
      "  '15-11-2017' '16-11-2017' '17-11-2017' '18-11-2017' '19-11-2017'\n",
      "  '20-11-2017' '21-11-2017' '22-11-2017' '23-11-2017' '24-11-2017'\n",
      "  '25-11-2017' '26-11-2017' '27-11-2017' '28-11-2017' '29-11-2017'\n",
      "  '30-11-2017' '01-12-2017' '02-12-2017' '03-12-2017' '04-12-2017'\n",
      "  '05-12-2017' '06-12-2017' '07-12-2017' '08-12-2017' '09-12-2017'\n",
      "  '10-12-2017' '11-12-2017' '12-12-2017' '13-12-2017' '14-12-2017'\n",
      "  '15-12-2017' '16-12-2017' '17-12-2017' '18-12-2017' '19-12-2017'\n",
      "  '20-12-2017' '21-12-2017' '22-12-2017' '23-12-2017' '24-12-2017'\n",
      "  '25-12-2017' '26-12-2017' '27-12-2017' '28-12-2017' '29-12-2017'\n",
      "  '30-12-2017' '31-12-2017' '01-01-2018' '02-01-2018' '03-01-2018'\n",
      "  '04-01-2018' '05-01-2018' '06-01-2018' '07-01-2018' '08-01-2018'\n",
      "  '09-01-2018']\n",
      " ['5464' '6041' '25' '5461' '6915' '4545' '4340' '1230' '61' '1258'\n",
      "  '3148' '4687' '4732' '3519' '1580' '2822' '181' '3158' '4383' '3881'\n",
      "  '4037' '202' '292' '330' '2209' '4550' '4435' '4779' '1831' '2255'\n",
      "  '539' '5464' '6041' '4068' '4683' '4033' '6314' '614' '3149' '4005'\n",
      "  '4880' '4136' '705' '570' '269' '4275' '5999' '4421' '6930' '5195'\n",
      "  '546' '493' '995' '1163' '6676' '3608' '774' '1421' '4064' '2725'\n",
      "  '5934' '1867' '3721' '2374' '2909' '1648' '799' '7102' '3941' '7422'\n",
      "  '437' '1231' '1696' '4921' '221' '6500' '3575' '4061' '651' '753' '518'\n",
      "  '5537' '4108' '5376' '3066' '177' '36' '299' '1447' '2599' '702' '133'\n",
      "  '153' '500' '2127' '2203']\n",
      " ['Neutral' 'Sad' 'Sad' 'Sad' 'Neutral' 'Sad' 'Sad' 'Sad' 'Sad' 'Sad'\n",
      "  'Sad' 'Sad' 'Happy' 'Sad' 'Sad' 'Sad' 'Sad' 'Neutral' 'Neutral'\n",
      "  'Neutral' 'Neutral' 'Neutral' 'Neutral' 'Happy' 'Neutral' 'Happy'\n",
      "  'Happy' 'Happy' 'Happy' 'Happy' 'Happy' 'Happy' 'Neutral' 'Happy'\n",
      "  'Happy' 'Happy' 'Happy' 'Happy' 'Happy' 'Happy' 'Happy' 'Happy' 'Happy'\n",
      "  'Neutral' 'Happy' 'Happy' 'Happy' 'Happy' 'Happy' 'Happy' 'Happy'\n",
      "  'Happy' 'Happy' 'Neutral' 'Sad' 'Happy' 'Happy' 'Happy' 'Happy' 'Happy'\n",
      "  'Happy' 'Happy' 'Sad' 'Neutral' 'Neutral' 'Sad' 'Sad' 'Neutral'\n",
      "  'Neutral' 'Happy' 'Neutral' 'Neutral' 'Sad' 'Neutral' 'Sad' 'Neutral'\n",
      "  'Neutral' 'Sad' 'Sad' 'Sad' 'Sad' 'Happy' 'Neutral' 'Happy' 'Neutral'\n",
      "  'Sad' 'Sad' 'Sad' 'Neutral' 'Neutral' 'Sad' 'Sad' 'Happy' 'Neutral'\n",
      "  'Neutral' 'Happy']\n",
      " ['181' '197' '0' '174' '223' '149' '140' '38' '1' '40' '101' '152' '150'\n",
      "  '113' '49' '86' '6' '99' '143' '125' '129' '6' '9' '10' '72' '150'\n",
      "  '141' '156' '57' '72' '17' '181' '197' '131' '154' '137' '193' '19'\n",
      "  '101' '139' '164' '137' '22' '17' '9' '145' '192' '146' '234' '167'\n",
      "  '16' '17' '32' '35' '220' '116' '23' '44' '131' '86' '194' '60' '121'\n",
      "  '76' '93' '53' '25' '227' '125' '243' '14' '39' '55' '158' '7' '213'\n",
      "  '116' '129' '21' '28' '16' '180' '138' '176' '99' '5' '1' '10' '47'\n",
      "  '84' '23' '4' '0' '0' '0' '0']\n",
      " ['5' '8' '5' '4' '5' '6' '6' '7' '5' '6' '8' '5' '6' '7' '5' '6' '8' '5'\n",
      "  '4' '5' '6' '8' '5' '6' '5' '8' '5' '4' '5' '4' '5' '4' '3' '2' '9' '5'\n",
      "  '6' '4' '5' '8' '4' '5' '6' '5' '6' '5' '6' '5' '6' '5' '6' '7' '6' '7'\n",
      "  '6' '5' '6' '7' '8' '8' '7' '8' '5' '4' '3' '3' '4' '5' '5' '5' '3' '4'\n",
      "  '4' '5' '5' '5' '5' '5' '5' '4' '3' '4' '5' '5' '4' '5' '3' '3' '3' '2'\n",
      "  '3' '2' '8' '5' '5' '5']\n",
      " ['Inactive' 'Inactive' 'Inactive' 'Inactive' 'Active' 'Inactive'\n",
      "  'Inactive' 'Inactive' 'Inactive' 'Inactive' 'Inactive' 'Inactive'\n",
      "  'Active' 'Inactive' 'Inactive' 'Inactive' 'Inactive' 'Inactive'\n",
      "  'Inactive' 'Inactive' 'Inactive' 'Inactive' 'Inactive' 'Inactive'\n",
      "  'Inactive' 'Active' 'Inactive' 'Inactive' 'Inactive' 'Inactive'\n",
      "  'Active' 'Inactive' 'Inactive' 'Inactive' 'Inactive' 'Inactive'\n",
      "  'Active' 'Active' 'Active' 'Active' 'Active' 'Active' 'Active' 'Active'\n",
      "  'Active' 'Inactive' 'Inactive' 'Inactive' 'Inactive' 'Inactive'\n",
      "  'Inactive' 'Active' 'Active' 'Active' 'Active' 'Active' 'Active'\n",
      "  'Active' 'Active' 'Active' 'Active' 'Active' 'Active' 'Inactive'\n",
      "  'Active' 'Active' 'Inactive' 'Active' 'Active' 'Active' 'Active'\n",
      "  'Active' 'Inactive' 'Active' 'Active' 'Active' 'Active' 'Inactive'\n",
      "  'Inactive' 'Inactive' 'Inactive' 'Active' 'Active' 'Active' 'Active'\n",
      "  'Inactive' 'Inactive' 'Inactive' 'Inactive' 'Inactive' 'Inactive'\n",
      "  'Inactive' 'Inactive' 'Active' 'Inactive' 'Active']]\n"
     ]
    }
   ],
   "source": [
    "data_t = data.T #Transose\n",
    "print(data_t)"
   ]
  },
  {
   "cell_type": "code",
   "execution_count": 52,
   "metadata": {},
   "outputs": [
    {
     "data": {
      "text/plain": [
       "(6, 96)"
      ]
     },
     "execution_count": 52,
     "metadata": {},
     "output_type": "execute_result"
    }
   ],
   "source": [
    "data_t.shape"
   ]
  },
  {
   "cell_type": "code",
   "execution_count": 54,
   "metadata": {},
   "outputs": [
    {
     "name": "stdout",
     "output_type": "stream",
     "text": [
      "['06-10-2017' '07-10-2017' '08-10-2017' '09-10-2017' '10-10-2017'\n",
      " '11-10-2017' '12-10-2017' '13-10-2017' '14-10-2017' '15-10-2017'\n",
      " '16-10-2017' '17-10-2017' '18-10-2017' '19-10-2017' '20-10-2017'\n",
      " '21-10-2017' '22-10-2017' '23-10-2017' '24-10-2017' '25-10-2017'\n",
      " '26-10-2017' '27-10-2017' '28-10-2017' '29-10-2017' '30-10-2017'\n",
      " '31-10-2017' '01-11-2017' '02-11-2017' '03-11-2017' '04-11-2017'\n",
      " '05-11-2017' '06-11-2017' '07-11-2017' '08-11-2017' '09-11-2017'\n",
      " '10-11-2017' '11-11-2017' '12-11-2017' '13-11-2017' '14-11-2017'\n",
      " '15-11-2017' '16-11-2017' '17-11-2017' '18-11-2017' '19-11-2017'\n",
      " '20-11-2017' '21-11-2017' '22-11-2017' '23-11-2017' '24-11-2017'\n",
      " '25-11-2017' '26-11-2017' '27-11-2017' '28-11-2017' '29-11-2017'\n",
      " '30-11-2017' '01-12-2017' '02-12-2017' '03-12-2017' '04-12-2017'\n",
      " '05-12-2017' '06-12-2017' '07-12-2017' '08-12-2017' '09-12-2017'\n",
      " '10-12-2017' '11-12-2017' '12-12-2017' '13-12-2017' '14-12-2017'\n",
      " '15-12-2017' '16-12-2017' '17-12-2017' '18-12-2017' '19-12-2017'\n",
      " '20-12-2017' '21-12-2017' '22-12-2017' '23-12-2017' '24-12-2017'\n",
      " '25-12-2017' '26-12-2017' '27-12-2017' '28-12-2017' '29-12-2017'\n",
      " '30-12-2017' '31-12-2017' '01-01-2018' '02-01-2018' '03-01-2018'\n",
      " '04-01-2018' '05-01-2018' '06-01-2018' '07-01-2018' '08-01-2018'\n",
      " '09-01-2018']\n"
     ]
    }
   ],
   "source": [
    "dates = data_t[0]\n",
    "print(dates)"
   ]
  },
  {
   "cell_type": "code",
   "execution_count": 55,
   "metadata": {},
   "outputs": [
    {
     "name": "stdout",
     "output_type": "stream",
     "text": [
      "['5464' '6041' '25' '5461' '6915' '4545' '4340' '1230' '61' '1258' '3148'\n",
      " '4687' '4732' '3519' '1580' '2822' '181' '3158' '4383' '3881' '4037'\n",
      " '202' '292' '330' '2209' '4550' '4435' '4779' '1831' '2255' '539' '5464'\n",
      " '6041' '4068' '4683' '4033' '6314' '614' '3149' '4005' '4880' '4136'\n",
      " '705' '570' '269' '4275' '5999' '4421' '6930' '5195' '546' '493' '995'\n",
      " '1163' '6676' '3608' '774' '1421' '4064' '2725' '5934' '1867' '3721'\n",
      " '2374' '2909' '1648' '799' '7102' '3941' '7422' '437' '1231' '1696'\n",
      " '4921' '221' '6500' '3575' '4061' '651' '753' '518' '5537' '4108' '5376'\n",
      " '3066' '177' '36' '299' '1447' '2599' '702' '133' '153' '500' '2127'\n",
      " '2203']\n"
     ]
    }
   ],
   "source": [
    "step_count = data_t[1]\n",
    "print(step_count)"
   ]
  },
  {
   "cell_type": "code",
   "execution_count": 62,
   "metadata": {},
   "outputs": [
    {
     "name": "stdout",
     "output_type": "stream",
     "text": [
      "995\n",
      "1163\n"
     ]
    }
   ],
   "source": [
    "print(max(step_count))\n",
    "print(min(step_count))"
   ]
  }
 ],
 "metadata": {
  "kernelspec": {
   "display_name": "Python 3",
   "language": "python",
   "name": "python3"
  },
  "language_info": {
   "codemirror_mode": {
    "name": "ipython",
    "version": 3
   },
   "file_extension": ".py",
   "mimetype": "text/x-python",
   "name": "python",
   "nbconvert_exporter": "python",
   "pygments_lexer": "ipython3",
   "version": "3.11.4"
  }
 },
 "nbformat": 4,
 "nbformat_minor": 2
}
