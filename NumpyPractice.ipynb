{
 "cells": [
  {
   "cell_type": "code",
   "execution_count": 0,
   "metadata": {
    "application/vnd.databricks.v1+cell": {
     "cellMetadata": {
      "byteLimit": 2048000,
      "rowLimit": 10000
     },
     "inputWidgets": {},
     "nuid": "df754135-1c5b-4176-98ce-6fd78c9e6b17",
     "showTitle": false,
     "title": ""
    }
   },
   "outputs": [],
   "source": [
    "import numpy as np"
   ]
  },
  {
   "cell_type": "code",
   "execution_count": 0,
   "metadata": {
    "application/vnd.databricks.v1+cell": {
     "cellMetadata": {
      "byteLimit": 2048000,
      "rowLimit": 10000
     },
     "inputWidgets": {},
     "nuid": "6e082c65-adba-4028-9b6d-200302b496d4",
     "showTitle": false,
     "title": ""
    }
   },
   "outputs": [],
   "source": [
    "a = np.arange(100)\n",
    "print(a)"
   ]
  },
  {
   "cell_type": "code",
   "execution_count": 0,
   "metadata": {
    "application/vnd.databricks.v1+cell": {
     "cellMetadata": {
      "byteLimit": 2048000,
      "rowLimit": 10000
     },
     "inputWidgets": {},
     "nuid": "837b94d2-dfac-4f49-a0b2-f3f0f101150e",
     "showTitle": false,
     "title": ""
    }
   },
   "outputs": [],
   "source": [
    "array1=np.array([51,52,3,54,55,56,57,58,59,60,61,62,63,64,65,6667,68,69,70,71,72,73,74,75,76,77,78,79,80,81,82,83,84,85,86,87,88,89,90,91,92,93,94,95,96,97,98,99])"
   ]
  },
  {
   "cell_type": "code",
   "execution_count": 0,
   "metadata": {
    "application/vnd.databricks.v1+cell": {
     "cellMetadata": {
      "byteLimit": 2048000,
      "rowLimit": 10000
     },
     "inputWidgets": {},
     "nuid": "63bdf4a1-d366-4725-844d-67b8eeeb6ea9",
     "showTitle": false,
     "title": ""
    }
   },
   "outputs": [],
   "source": [
    "type(array1)"
   ]
  },
  {
   "cell_type": "code",
   "execution_count": 0,
   "metadata": {
    "application/vnd.databricks.v1+cell": {
     "cellMetadata": {
      "byteLimit": 2048000,
      "rowLimit": 10000
     },
     "inputWidgets": {},
     "nuid": "df8d0872-70ad-4569-873b-f7858fd61d24",
     "showTitle": false,
     "title": ""
    }
   },
   "outputs": [],
   "source": [
    "array1 * 2"
   ]
  },
  {
   "cell_type": "code",
   "execution_count": 0,
   "metadata": {
    "application/vnd.databricks.v1+cell": {
     "cellMetadata": {
      "byteLimit": 2048000,
      "rowLimit": 10000
     },
     "inputWidgets": {},
     "nuid": "cd0811c6-a217-4a55-bc91-3b732828b2ba",
     "showTitle": false,
     "title": ""
    }
   },
   "outputs": [],
   "source": [
    "array1 > 80"
   ]
  },
  {
   "cell_type": "code",
   "execution_count": 0,
   "metadata": {
    "application/vnd.databricks.v1+cell": {
     "cellMetadata": {
      "byteLimit": 2048000,
      "rowLimit": 10000
     },
     "inputWidgets": {},
     "nuid": "0934e8ea-a049-4bbf-a2b4-6a7b6b62d7b1",
     "showTitle": false,
     "title": ""
    }
   },
   "outputs": [],
   "source": [
    "array2 = array1[array1 > 80]\n",
    "print(array2)"
   ]
  },
  {
   "cell_type": "code",
   "execution_count": 0,
   "metadata": {
    "application/vnd.databricks.v1+cell": {
     "cellMetadata": {
      "byteLimit": 2048000,
      "rowLimit": 10000
     },
     "inputWidgets": {},
     "nuid": "605fc619-037c-4ae6-af80-1aebfb5f2b29",
     "showTitle": false,
     "title": ""
    }
   },
   "outputs": [],
   "source": [
    "array2 = array1[array1 % 2 == 0]\n",
    "print(array2)"
   ]
  },
  {
   "cell_type": "code",
   "execution_count": 0,
   "metadata": {
    "application/vnd.databricks.v1+cell": {
     "cellMetadata": {
      "byteLimit": 2048000,
      "rowLimit": 10000
     },
     "inputWidgets": {},
     "nuid": "a632dcc7-2873-469c-96f2-73ceb70ad910",
     "showTitle": false,
     "title": ""
    }
   },
   "outputs": [],
   "source": [
    "score = np.loadtxt(\"survey.txt\", dtype = \"int\")"
   ]
  },
  {
   "cell_type": "code",
   "execution_count": 0,
   "metadata": {
    "application/vnd.databricks.v1+cell": {
     "cellMetadata": {
      "byteLimit": 2048000,
      "rowLimit": 10000
     },
     "inputWidgets": {},
     "nuid": "6f08dae3-e051-4ff7-b854-bb31cdd79d01",
     "showTitle": false,
     "title": ""
    }
   },
   "outputs": [],
   "source": [
    "print(score.shape)\n",
    "print(score.ndim)"
   ]
  },
  {
   "cell_type": "code",
   "execution_count": 0,
   "metadata": {
    "application/vnd.databricks.v1+cell": {
     "cellMetadata": {
      "byteLimit": 2048000,
      "rowLimit": 10000
     },
     "inputWidgets": {},
     "nuid": "15434648-4feb-4ee3-a07c-7b4b99a9fccf",
     "showTitle": false,
     "title": ""
    }
   },
   "outputs": [],
   "source": [
    "score[:5]"
   ]
  },
  {
   "cell_type": "code",
   "execution_count": 0,
   "metadata": {
    "application/vnd.databricks.v1+cell": {
     "cellMetadata": {
      "byteLimit": 2048000,
      "rowLimit": 10000
     },
     "inputWidgets": {},
     "nuid": "f9072ef9-e2e4-4965-b3a5-225355257a3e",
     "showTitle": false,
     "title": ""
    }
   },
   "outputs": [],
   "source": [
    "detractors = score[ score < 7]\n",
    "print(detractors)"
   ]
  },
  {
   "cell_type": "code",
   "execution_count": 0,
   "metadata": {
    "application/vnd.databricks.v1+cell": {
     "cellMetadata": {
      "byteLimit": 2048000,
      "rowLimit": 10000
     },
     "inputWidgets": {},
     "nuid": "497f44ac-2026-4a61-bd56-5f0e5be1f1c4",
     "showTitle": false,
     "title": ""
    }
   },
   "outputs": [],
   "source": [
    "num_detractors = len(detractors)\n",
    "print(num_detractors)"
   ]
  },
  {
   "cell_type": "code",
   "execution_count": 0,
   "metadata": {
    "application/vnd.databricks.v1+cell": {
     "cellMetadata": {
      "byteLimit": 2048000,
      "rowLimit": 10000
     },
     "inputWidgets": {},
     "nuid": "c5828035-a035-4074-9d2a-d621bebb0e40",
     "showTitle": false,
     "title": ""
    }
   },
   "outputs": [],
   "source": [
    "total = len(score)"
   ]
  },
  {
   "cell_type": "code",
   "execution_count": 0,
   "metadata": {
    "application/vnd.databricks.v1+cell": {
     "cellMetadata": {
      "byteLimit": 2048000,
      "rowLimit": 10000
     },
     "inputWidgets": {},
     "nuid": "f265eb6f-67eb-41d1-8e66-9615c396b1aa",
     "showTitle": false,
     "title": ""
    }
   },
   "outputs": [],
   "source": [
    "perc_detractors = num_detractors/total\n",
    "print(perc_detractors)"
   ]
  },
  {
   "cell_type": "code",
   "execution_count": 0,
   "metadata": {
    "application/vnd.databricks.v1+cell": {
     "cellMetadata": {
      "byteLimit": 2048000,
      "rowLimit": 10000
     },
     "inputWidgets": {},
     "nuid": "c1f3c997-7473-4aa3-b208-56992f25882b",
     "showTitle": false,
     "title": ""
    }
   },
   "outputs": [],
   "source": [
    "promoters = score[ score > 8]\n",
    "num_promoters = len(promoters)\n",
    "print(promoters)"
   ]
  },
  {
   "cell_type": "code",
   "execution_count": 0,
   "metadata": {
    "application/vnd.databricks.v1+cell": {
     "cellMetadata": {
      "byteLimit": 2048000,
      "rowLimit": 10000
     },
     "inputWidgets": {},
     "nuid": "6577cb1e-b4b4-4828-9d99-6f55ceb3ded9",
     "showTitle": false,
     "title": ""
    }
   },
   "outputs": [],
   "source": [
    "perc_promoters = num_promoters/total\n",
    "print(perc_promoters)"
   ]
  },
  {
   "cell_type": "code",
   "execution_count": 0,
   "metadata": {
    "application/vnd.databricks.v1+cell": {
     "cellMetadata": {
      "byteLimit": 2048000,
      "rowLimit": 10000
     },
     "inputWidgets": {},
     "nuid": "c2f27ff4-80d9-4bd5-bf10-f202ddd88579",
     "showTitle": false,
     "title": ""
    }
   },
   "outputs": [],
   "source": [
    "nps = perc_promoters - perc_detractors\n",
    "print(nps)"
   ]
  },
  {
   "cell_type": "code",
   "execution_count": 0,
   "metadata": {
    "application/vnd.databricks.v1+cell": {
     "cellMetadata": {
      "byteLimit": 2048000,
      "rowLimit": 10000
     },
     "inputWidgets": {},
     "nuid": "7fb1ffe1-2afd-485d-9a4f-c91f851c8c8a",
     "showTitle": false,
     "title": ""
    }
   },
   "outputs": [],
   "source": [
    "score.min()"
   ]
  },
  {
   "cell_type": "code",
   "execution_count": 0,
   "metadata": {
    "application/vnd.databricks.v1+cell": {
     "cellMetadata": {
      "byteLimit": 2048000,
      "rowLimit": 10000
     },
     "inputWidgets": {},
     "nuid": "f674e57e-2ef6-4006-8773-69d0a3162490",
     "showTitle": false,
     "title": ""
    }
   },
   "outputs": [],
   "source": [
    "score.max()"
   ]
  },
  {
   "cell_type": "code",
   "execution_count": 0,
   "metadata": {
    "application/vnd.databricks.v1+cell": {
     "cellMetadata": {
      "byteLimit": 2048000,
      "rowLimit": 10000
     },
     "inputWidgets": {},
     "nuid": "31ecf8e1-e797-451c-b869-f7e11dcb1da1",
     "showTitle": false,
     "title": ""
    }
   },
   "outputs": [],
   "source": [
    "ans = np.round(nps, 2)\n",
    "print(ans)"
   ]
  },
  {
   "cell_type": "code",
   "execution_count": 0,
   "metadata": {
    "application/vnd.databricks.v1+cell": {
     "cellMetadata": {
      "byteLimit": 2048000,
      "rowLimit": 10000
     },
     "inputWidgets": {},
     "nuid": "49be3e38-a1fd-4106-a958-23b72e926702",
     "showTitle": false,
     "title": ""
    }
   },
   "outputs": [],
   "source": [
    "data = np.loadtxt(\"fit.txt\", dtype = 'str')"
   ]
  },
  {
   "cell_type": "code",
   "execution_count": 0,
   "metadata": {
    "application/vnd.databricks.v1+cell": {
     "cellMetadata": {
      "byteLimit": 2048000,
      "rowLimit": 10000
     },
     "inputWidgets": {},
     "nuid": "0e2b3b7c-45b2-48b8-9f6f-0d094e92749e",
     "showTitle": false,
     "title": ""
    }
   },
   "outputs": [],
   "source": [
    "print(data)"
   ]
  },
  {
   "cell_type": "code",
   "execution_count": 0,
   "metadata": {
    "application/vnd.databricks.v1+cell": {
     "cellMetadata": {
      "byteLimit": 2048000,
      "rowLimit": 10000
     },
     "inputWidgets": {},
     "nuid": "683cc0f2-8389-4228-90a6-b121941cd975",
     "showTitle": false,
     "title": ""
    }
   },
   "outputs": [],
   "source": [
    "data.ndim"
   ]
  },
  {
   "cell_type": "code",
   "execution_count": 0,
   "metadata": {
    "application/vnd.databricks.v1+cell": {
     "cellMetadata": {
      "byteLimit": 2048000,
      "rowLimit": 10000
     },
     "inputWidgets": {},
     "nuid": "792fd8d7-dcf0-46d6-bae8-5bec7201cdca",
     "showTitle": false,
     "title": ""
    }
   },
   "outputs": [],
   "source": [
    "data.shape"
   ]
  },
  {
   "cell_type": "code",
   "execution_count": 0,
   "metadata": {
    "application/vnd.databricks.v1+cell": {
     "cellMetadata": {
      "byteLimit": 2048000,
      "rowLimit": 10000
     },
     "inputWidgets": {},
     "nuid": "94885fdc-6982-46aa-8455-0bbd20df15df",
     "showTitle": false,
     "title": ""
    }
   },
   "outputs": [],
   "source": [
    "data[1]"
   ]
  },
  {
   "cell_type": "code",
   "execution_count": 0,
   "metadata": {
    "application/vnd.databricks.v1+cell": {
     "cellMetadata": {
      "byteLimit": 2048000,
      "rowLimit": 10000
     },
     "inputWidgets": {},
     "nuid": "80fb81ae-1b48-46a0-9adb-5107ebd64e85",
     "showTitle": false,
     "title": ""
    }
   },
   "outputs": [],
   "source": [
    "print(data[:5])"
   ]
  },
  {
   "cell_type": "code",
   "execution_count": 0,
   "metadata": {
    "application/vnd.databricks.v1+cell": {
     "cellMetadata": {
      "byteLimit": 2048000,
      "rowLimit": 10000
     },
     "inputWidgets": {},
     "nuid": "d91164c3-a18a-4e63-be15-fca79e4d552f",
     "showTitle": false,
     "title": ""
    }
   },
   "outputs": [],
   "source": [
    "data_t = data.T #Transose\n",
    "print(data_t)"
   ]
  },
  {
   "cell_type": "code",
   "execution_count": 0,
   "metadata": {
    "application/vnd.databricks.v1+cell": {
     "cellMetadata": {
      "byteLimit": 2048000,
      "rowLimit": 10000
     },
     "inputWidgets": {},
     "nuid": "46978bca-5bb8-44b6-a11b-f421b15fa5a5",
     "showTitle": false,
     "title": ""
    }
   },
   "outputs": [],
   "source": [
    "data_t.shape"
   ]
  },
  {
   "cell_type": "code",
   "execution_count": 0,
   "metadata": {
    "application/vnd.databricks.v1+cell": {
     "cellMetadata": {
      "byteLimit": 2048000,
      "rowLimit": 10000
     },
     "inputWidgets": {},
     "nuid": "122a678f-7145-4978-b707-c95719367b89",
     "showTitle": false,
     "title": ""
    }
   },
   "outputs": [],
   "source": [
    "dates = data_t[0]\n",
    "print(dates)"
   ]
  },
  {
   "cell_type": "code",
   "execution_count": 0,
   "metadata": {
    "application/vnd.databricks.v1+cell": {
     "cellMetadata": {
      "byteLimit": 2048000,
      "rowLimit": 10000
     },
     "inputWidgets": {},
     "nuid": "607ea0f8-86e3-4fb2-bd75-b9d546e3b27b",
     "showTitle": false,
     "title": ""
    }
   },
   "outputs": [],
   "source": [
    "step_count = data_t[1]\n",
    "print(step_count)"
   ]
  },
  {
   "cell_type": "code",
   "execution_count": 0,
   "metadata": {
    "application/vnd.databricks.v1+cell": {
     "cellMetadata": {
      "byteLimit": 2048000,
      "rowLimit": 10000
     },
     "inputWidgets": {},
     "nuid": "11dfbcb2-ce3e-49e0-9632-125822fa88c5",
     "showTitle": false,
     "title": ""
    }
   },
   "outputs": [],
   "source": [
    "print(max(step_count))\n",
    "print(min(step_count))"
   ]
  }
 ],
 "metadata": {
  "application/vnd.databricks.v1+notebook": {
   "dashboards": [],
   "language": "python",
   "notebookMetadata": {
    "pythonIndentUnit": 4
   },
   "notebookName": "NumpyPractice",
   "widgets": {}
  },
  "kernelspec": {
   "display_name": "Python 3",
   "language": "python",
   "name": "python3"
  },
  "language_info": {
   "codemirror_mode": {
    "name": "ipython",
    "version": 3
   },
   "file_extension": ".py",
   "mimetype": "text/x-python",
   "name": "python",
   "nbconvert_exporter": "python",
   "pygments_lexer": "ipython3",
   "version": "3.11.4"
  }
 },
 "nbformat": 4,
 "nbformat_minor": 0
}
