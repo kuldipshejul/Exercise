{
 "cells": [
  {
   "cell_type": "markdown",
   "metadata": {
    "application/vnd.databricks.v1+cell": {
     "cellMetadata": {},
     "inputWidgets": {},
     "nuid": "bfb64a64-563a-4f18-bec6-017a673dee03",
     "showTitle": false,
     "title": ""
    },
    "papermill": {
     "duration": 0.014112,
     "end_time": "2024-02-13T10:46:32.700293",
     "exception": false,
     "start_time": "2024-02-13T10:46:32.686181",
     "status": "completed"
    },
    "tags": []
   },
   "source": [
    "![Money.jpeg](attachment:b75bd037-c330-4f2c-9039-52a7446c3185.jpeg)"
   ]
  },
  {
   "cell_type": "markdown",
   "metadata": {
    "application/vnd.databricks.v1+cell": {
     "cellMetadata": {},
     "inputWidgets": {},
     "nuid": "e9dc737b-b9ef-428b-969a-cc62ebdbf7da",
     "showTitle": false,
     "title": ""
    },
    "papermill": {
     "duration": 0.013061,
     "end_time": "2024-02-13T10:46:32.726971",
     "exception": false,
     "start_time": "2024-02-13T10:46:32.713910",
     "status": "completed"
    },
    "tags": []
   },
   "source": [
    "# <span style=\"font-family:cursive;\">WHAT IS ANTI MONEY LAUNDERING ? </span>\n",
    "Anti money laundering (AML) refers to the web of laws, regulations, and procedures aimed at uncovering efforts to disguise illicit funds as legitimate income. Money laundering seeks to conceal crimes ranging from small-time tax evasion and drug trafficking to public corruption and the financing of groups designated as terrorist organizations.\n",
    "\n",
    "\n",
    "AML legislation was a response to the growth of the financial industry, the lifting of international capital controls and the growing ease of conducting complex chains of financial transactions.\n",
    "\n",
    "A high-level United Nations panel has estimated annual money laundering flows at $1.6 trillion, accounting for 2.7% of global GDP in 2020.\n"
   ]
  },
  {
   "cell_type": "markdown",
   "metadata": {
    "application/vnd.databricks.v1+cell": {
     "cellMetadata": {},
     "inputWidgets": {},
     "nuid": "a23aefe1-1913-470c-a5d5-f64e0c51eee5",
     "showTitle": false,
     "title": ""
    },
    "papermill": {
     "duration": 0.013237,
     "end_time": "2024-02-13T10:46:32.753936",
     "exception": false,
     "start_time": "2024-02-13T10:46:32.740699",
     "status": "completed"
    },
    "tags": []
   },
   "source": [
    "# Description of Dataset\n",
    "\n",
    " * customer_id    : Unique id for customers\n",
    " * credit_debit   : Transaction(debit or credit)\n",
    " * cpcc           : Country which transaction was made\n",
    " * risk    : transaction status\n",
    " * type : transaction type(cash, cheque, wire"
   ]
  },
  {
   "cell_type": "code",
   "execution_count": 0,
   "metadata": {
    "_cell_guid": "b1076dfc-b9ad-4769-8c92-a6c4dae69d19",
    "_uuid": "8f2839f25d086af736a60e9eeb907d3b93b6e0e5",
    "application/vnd.databricks.v1+cell": {
     "cellMetadata": {},
     "inputWidgets": {},
     "nuid": "7ab47119-4e86-4695-8afc-406b1e5712ef",
     "showTitle": false,
     "title": ""
    },
    "execution": {
     "iopub.execute_input": "2024-02-13T10:46:32.783511Z",
     "iopub.status.busy": "2024-02-13T10:46:32.783136Z",
     "iopub.status.idle": "2024-02-13T10:46:35.795090Z",
     "shell.execute_reply": "2024-02-13T10:46:35.794071Z"
    },
    "papermill": {
     "duration": 3.029039,
     "end_time": "2024-02-13T10:46:35.797290",
     "exception": false,
     "start_time": "2024-02-13T10:46:32.768251",
     "status": "completed"
    },
    "tags": []
   },
   "outputs": [],
   "source": [
    "import pandas as pd\n",
    "import seaborn as sns\n",
    "import numpy as np\n",
    "import matplotlib.pyplot as plt\n",
    "from sklearn.model_selection import cross_validate, GridSearchCV,train_test_split, validation_curve\n",
    "from sklearn.tree import DecisionTreeClassifier\n",
    "from sklearn.metrics import  classification_report,confusion_matrix,accuracy_score\n",
    "from sklearn.ensemble import RandomForestClassifier\n",
    "from sklearn.preprocessing import MinMaxScaler, LabelEncoder, StandardScaler, RobustScaler\n",
    "from lightgbm import LGBMClassifier\n",
    "from xgboost import XGBClassifier\n",
    "from sklearn.metrics import roc_auc_score,roc_curve\n",
    "import warnings\n",
    "warnings.filterwarnings(\"ignore\")\n",
    "pd.set_option('display.max_columns',None)\n",
    "pd.set_option('display.float_format', lambda x: '%.2f' %x)"
   ]
  },
  {
   "cell_type": "code",
   "execution_count": 0,
   "metadata": {
    "application/vnd.databricks.v1+cell": {
     "cellMetadata": {},
     "inputWidgets": {},
     "nuid": "1d22c9d0-3330-494b-8326-9fa255bf00bc",
     "showTitle": false,
     "title": ""
    },
    "execution": {
     "iopub.execute_input": "2024-02-13T10:46:35.826348Z",
     "iopub.status.busy": "2024-02-13T10:46:35.825980Z",
     "iopub.status.idle": "2024-02-13T10:46:48.337595Z",
     "shell.execute_reply": "2024-02-13T10:46:48.336056Z"
    },
    "papermill": {
     "duration": 12.528151,
     "end_time": "2024-02-13T10:46:48.339667",
     "exception": false,
     "start_time": "2024-02-13T10:46:35.811516",
     "status": "completed"
    },
    "tags": []
   },
   "outputs": [],
   "source": [
    "df_data = pd.read_excel('/kaggle/input/anti-money-laundering/Data for assignment.xlsx')\n",
    "df_country = pd.read_excel('/kaggle/input/anti-money-laundering/Data for assignment.xlsx',sheet_name = 'country_risk')\n",
    "df_country.columns = ['CPCC','risk']\n",
    "df1 = df_data.merge(df_country,on='CPCC')\n",
    "df_product = pd.read_excel('/kaggle/input/anti-money-laundering/Data for assignment.xlsx',sheet_name='product_type')\n",
    "df_product.columns = ['product_type','type']\n",
    "df_ = df1.merge(df_product,on='product_type')\n",
    "df_.columns = [col.lower() for col in df_.columns]\n",
    "df = df_.copy()\n",
    "df.head()\n",
    "df.drop(\"product_type\", axis=1, inplace=True)\n",
    "df.dropna(inplace=True)\n",
    "df = df.loc[df['amount']>0]\n",
    "df['risk'] = df['risk'].map({\"Y\":1, \"N\":0})\n",
    "df.head()\n"
   ]
  },
  {
   "cell_type": "code",
   "execution_count": 0,
   "metadata": {
    "application/vnd.databricks.v1+cell": {
     "cellMetadata": {},
     "inputWidgets": {},
     "nuid": "5c1bf178-9705-472c-82df-34a97444891c",
     "showTitle": false,
     "title": ""
    },
    "execution": {
     "iopub.execute_input": "2024-02-13T10:46:48.370389Z",
     "iopub.status.busy": "2024-02-13T10:46:48.369808Z",
     "iopub.status.idle": "2024-02-13T10:46:48.376564Z",
     "shell.execute_reply": "2024-02-13T10:46:48.375118Z"
    },
    "papermill": {
     "duration": 0.024929,
     "end_time": "2024-02-13T10:46:48.378892",
     "exception": false,
     "start_time": "2024-02-13T10:46:48.353963",
     "status": "completed"
    },
    "tags": []
   },
   "outputs": [],
   "source": [
    "# Creating a function for controling dataframe\n",
    "def check_data(df):\n",
    "    print('HEAD {0}'.format(df.head()))\n",
    "    print(\"-*-*-*-*-*-*-*-*-*-*-*-*-*-*-*-\")\n",
    "    print('TAIL {0}'.format(df.tail()))\n",
    "    print('SHAPE: {0}'.format(df.shape))\n",
    "    print(\"-*-*-*-*-*-*-*-*-*-*-*-*-*-*-*-\")\n",
    "    print('INFO: {0}'.format(df.info()))\n",
    "    print(\"-*-*-*-*-*-*-*-*-*-*-*-*-*-*-*-\")\n",
    "    print('COLUMNS: {0}'.format(df.columns))\n",
    "    print(\"-*-*-*-*-*-*-*-*-*-*-*-*-*-*-*-\")\n",
    "    print('DESCRIBE {0}'.format(df.describe().T))\n",
    "    print(\"-*-*-*-*-*-*-*-*-*-*-*-*-*-*-*-\")\n",
    "    print(\"ISNULL {0}\".format(df.isnull().sum()))\n",
    "    print(\"-*-*-*-*-*-*-*-*-*-*-*-*-*-*-*-\")"
   ]
  },
  {
   "cell_type": "code",
   "execution_count": 0,
   "metadata": {
    "application/vnd.databricks.v1+cell": {
     "cellMetadata": {},
     "inputWidgets": {},
     "nuid": "aa064b85-f3ce-4b0c-93a2-02b242846173",
     "showTitle": false,
     "title": ""
    },
    "execution": {
     "iopub.execute_input": "2024-02-13T10:46:48.409723Z",
     "iopub.status.busy": "2024-02-13T10:46:48.409360Z",
     "iopub.status.idle": "2024-02-13T10:46:48.573324Z",
     "shell.execute_reply": "2024-02-13T10:46:48.572097Z"
    },
    "papermill": {
     "duration": 0.181598,
     "end_time": "2024-02-13T10:46:48.574995",
     "exception": false,
     "start_time": "2024-02-13T10:46:48.393397",
     "status": "completed"
    },
    "tags": []
   },
   "outputs": [],
   "source": [
    "check_data(df)"
   ]
  },
  {
   "cell_type": "code",
   "execution_count": 0,
   "metadata": {
    "application/vnd.databricks.v1+cell": {
     "cellMetadata": {},
     "inputWidgets": {},
     "nuid": "707971cd-1a4d-4071-90e3-5c017e67db78",
     "showTitle": false,
     "title": ""
    },
    "execution": {
     "iopub.execute_input": "2024-02-13T10:46:48.605338Z",
     "iopub.status.busy": "2024-02-13T10:46:48.604265Z",
     "iopub.status.idle": "2024-02-13T10:47:21.244685Z",
     "shell.execute_reply": "2024-02-13T10:47:21.243778Z"
    },
    "papermill": {
     "duration": 32.670918,
     "end_time": "2024-02-13T10:47:21.260272",
     "exception": false,
     "start_time": "2024-02-13T10:46:48.589354",
     "status": "completed"
    },
    "tags": []
   },
   "outputs": [],
   "source": [
    "# Classification of users according to the their operations \n",
    "custom_list = []\n",
    "def checking_customers_operations(dataframe, col):\n",
    "    IQR_tran = dataframe[col].value_counts().quantile(0.75) - dataframe[col].value_counts().quantile(0.25)\n",
    "    value = dataframe[col].value_counts()\n",
    "    for idx, count in value.items():\n",
    "        if count >= dataframe[col].value_counts().quantile(0.75)+IQR_tran:\n",
    "            custom_list.append(idx)\n",
    "checking_customers_operations(df, \"customer_id\")\n",
    "\n",
    "df[\"cus_stat\"] = df[\"customer_id\"].apply(lambda x: \"dangerous\" if x in custom_list else \"not_dangerous\")\n",
    "df[\"cus_stat\"].value_counts()"
   ]
  },
  {
   "cell_type": "code",
   "execution_count": 0,
   "metadata": {
    "application/vnd.databricks.v1+cell": {
     "cellMetadata": {},
     "inputWidgets": {},
     "nuid": "333d11ce-cdd8-451c-94c6-137ff9916fb4",
     "showTitle": false,
     "title": ""
    },
    "execution": {
     "iopub.execute_input": "2024-02-13T10:47:21.290874Z",
     "iopub.status.busy": "2024-02-13T10:47:21.289990Z",
     "iopub.status.idle": "2024-02-13T10:47:58.872132Z",
     "shell.execute_reply": "2024-02-13T10:47:58.871279Z"
    },
    "papermill": {
     "duration": 37.613344,
     "end_time": "2024-02-13T10:47:58.886937",
     "exception": false,
     "start_time": "2024-02-13T10:47:21.273593",
     "status": "completed"
    },
    "tags": []
   },
   "outputs": [],
   "source": [
    "# Creating new customers's list who make an operations risky countries and their neigbors\n",
    "# (PF(r), WS, TO, CK, FJ, NC ),(TL(r), CX), (YT(r), KM), (RO(r), MD, BG, XS, HU)\n",
    "list_dangerous_id = []\n",
    "def checking_customer_id_neigbor(dataframe, country, neig):\n",
    "    for col in dataframe[\"customer_id\"].loc[dataframe[\"cpcc\"] == country].unique():\n",
    "        if col in dataframe[\"customer_id\"].loc[dataframe[\"cpcc\"] == neig].unique():\n",
    "            list_dangerous_id.append(col)\n",
    "    return list_dangerous_id\n",
    "\n",
    "checking_customer_id_neigbor(df, \"PF\", \"WS\")\n",
    "checking_customer_id_neigbor(df, \"PF\", \"TO\")\n",
    "checking_customer_id_neigbor(df, \"PF\", \"CK\")\n",
    "checking_customer_id_neigbor(df, \"PF\", \"FJ\")\n",
    "checking_customer_id_neigbor(df, \"PF\", \"NC\")\n",
    "checking_customer_id_neigbor(df, \"TL\", \"CX\")\n",
    "checking_customer_id_neigbor(df, \"YT\", \"KM\")\n",
    "checking_customer_id_neigbor(df, \"RO\", \"MD\")\n",
    "checking_customer_id_neigbor(df, \"RO\", \"BG\")\n",
    "checking_customer_id_neigbor(df, \"RO\", \"XS\")\n",
    "checking_customer_id_neigbor(df, \"RO\", \"HU\")\n",
    "print(list_dangerous_id)"
   ]
  },
  {
   "cell_type": "code",
   "execution_count": 0,
   "metadata": {
    "application/vnd.databricks.v1+cell": {
     "cellMetadata": {},
     "inputWidgets": {},
     "nuid": "e282569b-65c3-4523-98c5-8f731155321b",
     "showTitle": false,
     "title": ""
    },
    "execution": {
     "iopub.execute_input": "2024-02-13T10:47:58.916644Z",
     "iopub.status.busy": "2024-02-13T10:47:58.916287Z",
     "iopub.status.idle": "2024-02-13T10:47:59.018460Z",
     "shell.execute_reply": "2024-02-13T10:47:59.017459Z"
    },
    "papermill": {
     "duration": 0.119509,
     "end_time": "2024-02-13T10:47:59.020345",
     "exception": false,
     "start_time": "2024-02-13T10:47:58.900836",
     "status": "completed"
    },
    "tags": []
   },
   "outputs": [],
   "source": [
    "# Creating Pivot_table \n",
    "table = pd.pivot_table(index = [\"customer_id\", 'risk', 'credit_debit'], columns=[\"type\"], \n",
    "                      values=\"amount\", aggfunc='mean', data=df).reset_index()\n",
    "table.columns = [col.lower() for col in table.columns]\n",
    "table.fillna(0, inplace=True)\n",
    "table.head()"
   ]
  },
  {
   "cell_type": "code",
   "execution_count": 0,
   "metadata": {
    "application/vnd.databricks.v1+cell": {
     "cellMetadata": {},
     "inputWidgets": {},
     "nuid": "ea79df6c-770f-4877-8369-d571f4936998",
     "showTitle": false,
     "title": ""
    },
    "execution": {
     "iopub.execute_input": "2024-02-13T10:47:59.052274Z",
     "iopub.status.busy": "2024-02-13T10:47:59.051958Z",
     "iopub.status.idle": "2024-02-13T10:47:59.087890Z",
     "shell.execute_reply": "2024-02-13T10:47:59.086791Z"
    },
    "papermill": {
     "duration": 0.054615,
     "end_time": "2024-02-13T10:47:59.089646",
     "exception": false,
     "start_time": "2024-02-13T10:47:59.035031",
     "status": "completed"
    },
    "tags": []
   },
   "outputs": [],
   "source": [
    "# Checking tha new dataframe table\n",
    "check_data(table)"
   ]
  },
  {
   "cell_type": "code",
   "execution_count": 0,
   "metadata": {
    "application/vnd.databricks.v1+cell": {
     "cellMetadata": {},
     "inputWidgets": {},
     "nuid": "427f1dae-744e-40d8-845c-0acb58f4b486",
     "showTitle": false,
     "title": ""
    },
    "execution": {
     "iopub.execute_input": "2024-02-13T10:47:59.120092Z",
     "iopub.status.busy": "2024-02-13T10:47:59.119609Z",
     "iopub.status.idle": "2024-02-13T10:47:59.142165Z",
     "shell.execute_reply": "2024-02-13T10:47:59.141314Z"
    },
    "papermill": {
     "duration": 0.03983,
     "end_time": "2024-02-13T10:47:59.143962",
     "exception": false,
     "start_time": "2024-02-13T10:47:59.104132",
     "status": "completed"
    },
    "tags": []
   },
   "outputs": [],
   "source": [
    "table.describe().T"
   ]
  },
  {
   "cell_type": "markdown",
   "metadata": {
    "application/vnd.databricks.v1+cell": {
     "cellMetadata": {},
     "inputWidgets": {},
     "nuid": "ec25cce4-5699-4d5a-82d4-b9bad7da572a",
     "showTitle": false,
     "title": ""
    },
    "papermill": {
     "duration": 0.013981,
     "end_time": "2024-02-13T10:47:59.172323",
     "exception": false,
     "start_time": "2024-02-13T10:47:59.158342",
     "status": "completed"
    },
    "tags": []
   },
   "source": [
    "# FEATURE ENGINEERING"
   ]
  },
  {
   "cell_type": "code",
   "execution_count": 0,
   "metadata": {
    "application/vnd.databricks.v1+cell": {
     "cellMetadata": {},
     "inputWidgets": {},
     "nuid": "85a412a9-c5b5-4f8c-82c2-3f9713d5562f",
     "showTitle": false,
     "title": ""
    },
    "execution": {
     "iopub.execute_input": "2024-02-13T10:47:59.202012Z",
     "iopub.status.busy": "2024-02-13T10:47:59.201679Z",
     "iopub.status.idle": "2024-02-13T10:47:59.453154Z",
     "shell.execute_reply": "2024-02-13T10:47:59.452179Z"
    },
    "papermill": {
     "duration": 0.268569,
     "end_time": "2024-02-13T10:47:59.454984",
     "exception": false,
     "start_time": "2024-02-13T10:47:59.186415",
     "status": "completed"
    },
    "tags": []
   },
   "outputs": [],
   "source": [
    "# Customer's operation segmentation\n",
    "custom_list_table = []\n",
    "def checking_value_counts(df, col):\n",
    "    value = table[col].value_counts()\n",
    "    for idx, count in value.items():\n",
    "        if count >= 3:\n",
    "            custom_list_table.append(idx)\n",
    "\n",
    "checking_value_counts(table,\"customer_id\")\n",
    "len(custom_list_table)\n",
    "\n",
    "\n",
    "table[\"cus_status\"] = table[\"customer_id\"].apply(lambda x: \"dangerous\" if x in custom_list_table else 'not_dangerous')\n",
    "table.head()\n"
   ]
  },
  {
   "cell_type": "code",
   "execution_count": 0,
   "metadata": {
    "application/vnd.databricks.v1+cell": {
     "cellMetadata": {},
     "inputWidgets": {},
     "nuid": "adcb5c3f-9203-4eed-940e-d74840a2aa3e",
     "showTitle": false,
     "title": ""
    },
    "execution": {
     "iopub.execute_input": "2024-02-13T10:47:59.485712Z",
     "iopub.status.busy": "2024-02-13T10:47:59.485416Z",
     "iopub.status.idle": "2024-02-13T10:47:59.503449Z",
     "shell.execute_reply": "2024-02-13T10:47:59.502521Z"
    },
    "papermill": {
     "duration": 0.035077,
     "end_time": "2024-02-13T10:47:59.505106",
     "exception": false,
     "start_time": "2024-02-13T10:47:59.470029",
     "status": "completed"
    },
    "tags": []
   },
   "outputs": [],
   "source": [
    "# Creating new variables using mathematical realtions between \"cash\", \"wire\", \"cheque\"\n",
    "table[\"total_amount\"] = table[\"cash\"] + table[\"wire\"] + table[\"cheque\"] \n",
    "table[\"wire_cheque_sum\"] = table[\"wire\"] + table[\"cheque\"]\n",
    "table[\"wire_cheque_minus\"] = table[\"wire\"] - table[\"cheque\"]\n",
    "table[\"wire_cash_sum\"] = table[\"wire\"] + table[\"cash\"]\n",
    "table[\"wire_cash_minus\"] = table[\"wire\"] - table[\"cash\"]\n",
    "table[\"cheque_cash_sum\"] = table[\"cheque\"] + table[\"cash\"]\n",
    "table[\"cheque_cash_minus\"] = table[\"cheque\"] - table[\"cash\"]\n",
    "table.head()\n",
    "\n"
   ]
  },
  {
   "cell_type": "code",
   "execution_count": 0,
   "metadata": {
    "application/vnd.databricks.v1+cell": {
     "cellMetadata": {},
     "inputWidgets": {},
     "nuid": "933b6ffe-b08e-42f1-8159-d2894ad9ab0c",
     "showTitle": false,
     "title": ""
    },
    "execution": {
     "iopub.execute_input": "2024-02-13T10:47:59.535967Z",
     "iopub.status.busy": "2024-02-13T10:47:59.535012Z",
     "iopub.status.idle": "2024-02-13T10:47:59.561017Z",
     "shell.execute_reply": "2024-02-13T10:47:59.560149Z"
    },
    "papermill": {
     "duration": 0.043185,
     "end_time": "2024-02-13T10:47:59.562852",
     "exception": false,
     "start_time": "2024-02-13T10:47:59.519667",
     "status": "completed"
    },
    "tags": []
   },
   "outputs": [],
   "source": [
    "# Creating new variable using total_amount\n",
    "IQR_table = table[\"total_amount\"].quantile(0.75) - table[\"total_amount\"].quantile(0.25)\n",
    "\n",
    "table.loc[(table[\"total_amount\"] >= (table['total_amount'].quantile(0.75)+ 1.5*IQR_table)), \"total_amo_status\"] = \"level1\"\n",
    "table.loc[(table[\"total_amount\"] < (table['total_amount'].quantile(0.75)+ 1.5*IQR_table)) &\n",
    "          (table['total_amount'] >=table['total_amount'].quantile(0.75)-IQR_table), \"total_amo_status\"] = \"level2\"\n",
    "table.loc[(table[\"total_amount\"] < (table['total_amount'].quantile(0.75)-IQR_table)), \"total_amo_status\"] = \"level3\"\n",
    "\n",
    "table.head()"
   ]
  },
  {
   "cell_type": "code",
   "execution_count": 0,
   "metadata": {
    "application/vnd.databricks.v1+cell": {
     "cellMetadata": {},
     "inputWidgets": {},
     "nuid": "6a92fd56-6067-4c02-9127-77d85a190663",
     "showTitle": false,
     "title": ""
    },
    "execution": {
     "iopub.execute_input": "2024-02-13T10:47:59.595001Z",
     "iopub.status.busy": "2024-02-13T10:47:59.594081Z",
     "iopub.status.idle": "2024-02-13T10:47:59.601068Z",
     "shell.execute_reply": "2024-02-13T10:47:59.600107Z"
    },
    "papermill": {
     "duration": 0.02475,
     "end_time": "2024-02-13T10:47:59.602831",
     "exception": false,
     "start_time": "2024-02-13T10:47:59.578081",
     "status": "completed"
    },
    "tags": []
   },
   "outputs": [],
   "source": [
    "list_dangerous_id"
   ]
  },
  {
   "cell_type": "code",
   "execution_count": 0,
   "metadata": {
    "application/vnd.databricks.v1+cell": {
     "cellMetadata": {},
     "inputWidgets": {},
     "nuid": "e452f751-fde2-4d7f-b30f-ab31a64a67c7",
     "showTitle": false,
     "title": ""
    },
    "execution": {
     "iopub.execute_input": "2024-02-13T10:47:59.634239Z",
     "iopub.status.busy": "2024-02-13T10:47:59.633671Z",
     "iopub.status.idle": "2024-02-13T10:47:59.700471Z",
     "shell.execute_reply": "2024-02-13T10:47:59.699880Z"
    },
    "papermill": {
     "duration": 0.084286,
     "end_time": "2024-02-13T10:47:59.702062",
     "exception": false,
     "start_time": "2024-02-13T10:47:59.617776",
     "status": "completed"
    },
    "tags": []
   },
   "outputs": [],
   "source": [
    "# New variables using cus_stat variable and list_dangerous_id\n",
    "\n",
    "table.loc[(table['cus_status'] == \"dangerous\") & (table['customer_id'].apply(lambda x: x in list_dangerous_id)), \"cus_dange_rate\"] = \"high\"\n",
    "table.loc[(table['cus_status'] == \"not_dangerous\") & (table['customer_id'].apply(lambda x: x in list_dangerous_id)), \"cus_dange_rate\"] = \"mid\"\n",
    "table.loc[(table['cus_status'] == \"dangerous\") & (table['customer_id'].apply(lambda x: x not in list_dangerous_id)), \"cus_dange_rate\"] = \"low\"\n",
    "table.loc[(table['cus_status'] == \"not_dangerous\") & (table['customer_id'].apply(lambda x: x not in list_dangerous_id)), \"cus_dange_rate\"] = \"not\"\n",
    "table.cus_dange_rate.value_counts()"
   ]
  },
  {
   "cell_type": "code",
   "execution_count": 0,
   "metadata": {
    "application/vnd.databricks.v1+cell": {
     "cellMetadata": {},
     "inputWidgets": {},
     "nuid": "d742dcbd-c775-4bf9-b6f7-3c648ccec468",
     "showTitle": false,
     "title": ""
    },
    "execution": {
     "iopub.execute_input": "2024-02-13T10:47:59.736958Z",
     "iopub.status.busy": "2024-02-13T10:47:59.736429Z",
     "iopub.status.idle": "2024-02-13T10:47:59.759431Z",
     "shell.execute_reply": "2024-02-13T10:47:59.758810Z"
    },
    "papermill": {
     "duration": 0.041865,
     "end_time": "2024-02-13T10:47:59.761320",
     "exception": false,
     "start_time": "2024-02-13T10:47:59.719455",
     "status": "completed"
    },
    "tags": []
   },
   "outputs": [],
   "source": [
    "# Creating separate threshold values for cash, wire, cheque variables and create new variables using them\n",
    "\n",
    "def variables_using_thresholds(dataframe, col, col_name):\n",
    "    IQR = dataframe[col].quantile(0.75) - dataframe[col].quantile(0.25)\n",
    "    dataframe.loc[dataframe[col] >= (dataframe[col].quantile(0.75) + IQR), col_name] = \"risk\"\n",
    "    dataframe.loc[dataframe[col] < (dataframe[col].quantile(0.75) + IQR), col_name] = \"not_risk\"\n",
    "\n",
    "\n",
    "variables_using_thresholds(table, \"cash\", \"cash_status\")\n",
    "variables_using_thresholds(table, \"cheque\", \"cheque_status\")\n",
    "variables_using_thresholds(table, \"wire\", \"wire_status\")"
   ]
  },
  {
   "cell_type": "code",
   "execution_count": 0,
   "metadata": {
    "application/vnd.databricks.v1+cell": {
     "cellMetadata": {},
     "inputWidgets": {},
     "nuid": "34220a16-87d5-40d6-869e-f21f00015c26",
     "showTitle": false,
     "title": ""
    },
    "execution": {
     "iopub.execute_input": "2024-02-13T10:47:59.803936Z",
     "iopub.status.busy": "2024-02-13T10:47:59.802938Z",
     "iopub.status.idle": "2024-02-13T10:47:59.838694Z",
     "shell.execute_reply": "2024-02-13T10:47:59.837896Z"
    },
    "papermill": {
     "duration": 0.058906,
     "end_time": "2024-02-13T10:47:59.840431",
     "exception": false,
     "start_time": "2024-02-13T10:47:59.781525",
     "status": "completed"
    },
    "tags": []
   },
   "outputs": [],
   "source": [
    "table.isnull().sum()"
   ]
  },
  {
   "cell_type": "code",
   "execution_count": 0,
   "metadata": {
    "application/vnd.databricks.v1+cell": {
     "cellMetadata": {},
     "inputWidgets": {},
     "nuid": "acb0eca7-1c12-4177-a472-bab3c0a3a006",
     "showTitle": false,
     "title": ""
    },
    "execution": {
     "iopub.execute_input": "2024-02-13T10:47:59.875360Z",
     "iopub.status.busy": "2024-02-13T10:47:59.874830Z",
     "iopub.status.idle": "2024-02-13T10:47:59.879488Z",
     "shell.execute_reply": "2024-02-13T10:47:59.878873Z"
    },
    "papermill": {
     "duration": 0.024824,
     "end_time": "2024-02-13T10:47:59.881469",
     "exception": false,
     "start_time": "2024-02-13T10:47:59.856645",
     "status": "completed"
    },
    "tags": []
   },
   "outputs": [],
   "source": [
    "cat_cols = [col for col in table.columns if table[col].dtypes == \"object\"]\n",
    "num_cols = [col for col in table.columns if table[col].dtypes != \"object\" and \"customer_id\" not in col]"
   ]
  },
  {
   "cell_type": "code",
   "execution_count": 0,
   "metadata": {
    "application/vnd.databricks.v1+cell": {
     "cellMetadata": {},
     "inputWidgets": {},
     "nuid": "ddd4fa2e-e43b-4659-9f65-4f76ffee2def",
     "showTitle": false,
     "title": ""
    },
    "execution": {
     "iopub.execute_input": "2024-02-13T10:47:59.914255Z",
     "iopub.status.busy": "2024-02-13T10:47:59.913667Z",
     "iopub.status.idle": "2024-02-13T10:47:59.919238Z",
     "shell.execute_reply": "2024-02-13T10:47:59.917890Z"
    },
    "papermill": {
     "duration": 0.0244,
     "end_time": "2024-02-13T10:47:59.921630",
     "exception": false,
     "start_time": "2024-02-13T10:47:59.897230",
     "status": "completed"
    },
    "tags": []
   },
   "outputs": [],
   "source": [
    "cat_cols"
   ]
  },
  {
   "cell_type": "code",
   "execution_count": 0,
   "metadata": {
    "application/vnd.databricks.v1+cell": {
     "cellMetadata": {},
     "inputWidgets": {},
     "nuid": "688c5f6e-ad44-4677-8c5d-9c77e6bf864e",
     "showTitle": false,
     "title": ""
    },
    "execution": {
     "iopub.execute_input": "2024-02-13T10:47:59.956945Z",
     "iopub.status.busy": "2024-02-13T10:47:59.956244Z",
     "iopub.status.idle": "2024-02-13T10:47:59.961834Z",
     "shell.execute_reply": "2024-02-13T10:47:59.961173Z"
    },
    "papermill": {
     "duration": 0.02487,
     "end_time": "2024-02-13T10:47:59.963426",
     "exception": false,
     "start_time": "2024-02-13T10:47:59.938556",
     "status": "completed"
    },
    "tags": []
   },
   "outputs": [],
   "source": [
    "num_cols"
   ]
  },
  {
   "cell_type": "markdown",
   "metadata": {
    "application/vnd.databricks.v1+cell": {
     "cellMetadata": {},
     "inputWidgets": {},
     "nuid": "3247d56a-3af9-4dfd-8c77-e34d62245be2",
     "showTitle": false,
     "title": ""
    },
    "papermill": {
     "duration": 0.015592,
     "end_time": "2024-02-13T10:47:59.994978",
     "exception": false,
     "start_time": "2024-02-13T10:47:59.979386",
     "status": "completed"
    },
    "tags": []
   },
   "source": [
    "# Visualizations"
   ]
  },
  {
   "cell_type": "code",
   "execution_count": 0,
   "metadata": {
    "application/vnd.databricks.v1+cell": {
     "cellMetadata": {},
     "inputWidgets": {},
     "nuid": "cf48dc47-a6e0-43c2-bf96-a61df11343d0",
     "showTitle": false,
     "title": ""
    },
    "execution": {
     "iopub.execute_input": "2024-02-13T10:48:00.028992Z",
     "iopub.status.busy": "2024-02-13T10:48:00.028473Z",
     "iopub.status.idle": "2024-02-13T10:48:00.900347Z",
     "shell.execute_reply": "2024-02-13T10:48:00.899591Z"
    },
    "papermill": {
     "duration": 0.89099,
     "end_time": "2024-02-13T10:48:00.901997",
     "exception": false,
     "start_time": "2024-02-13T10:48:00.011007",
     "status": "completed"
    },
    "tags": []
   },
   "outputs": [],
   "source": [
    "fig, axs = plt.subplots(nrows=2,ncols=4,figsize=(12,10))\n",
    "axs = axs.flatten()\n",
    "for i, col in enumerate(cat_cols):\n",
    "    sns.countplot(x=col,data=table,ax=axs[i])\n",
    "    plt.title(col)\n",
    "plt.show()"
   ]
  },
  {
   "cell_type": "code",
   "execution_count": 0,
   "metadata": {
    "application/vnd.databricks.v1+cell": {
     "cellMetadata": {},
     "inputWidgets": {},
     "nuid": "55370532-3e85-4547-a80d-00e4d95927a4",
     "showTitle": false,
     "title": ""
    },
    "execution": {
     "iopub.execute_input": "2024-02-13T10:48:00.936778Z",
     "iopub.status.busy": "2024-02-13T10:48:00.935705Z",
     "iopub.status.idle": "2024-02-13T10:48:02.007054Z",
     "shell.execute_reply": "2024-02-13T10:48:02.005982Z"
    },
    "papermill": {
     "duration": 1.09094,
     "end_time": "2024-02-13T10:48:02.009307",
     "exception": false,
     "start_time": "2024-02-13T10:48:00.918367",
     "status": "completed"
    },
    "tags": []
   },
   "outputs": [],
   "source": [
    "fig, axs = plt.subplots(nrows=4,ncols=3,figsize=(15,12))\n",
    "axs = axs.flatten()\n",
    "for i, col in enumerate(num_cols):\n",
    "    sns.boxplot(y=col,data=table,ax=axs[i])\n",
    "    plt.title(col)\n",
    "plt.show()"
   ]
  },
  {
   "cell_type": "code",
   "execution_count": 0,
   "metadata": {
    "application/vnd.databricks.v1+cell": {
     "cellMetadata": {},
     "inputWidgets": {},
     "nuid": "7f8ba532-8399-4231-a6d9-451886d53532",
     "showTitle": false,
     "title": ""
    },
    "execution": {
     "iopub.execute_input": "2024-02-13T10:48:02.047565Z",
     "iopub.status.busy": "2024-02-13T10:48:02.047250Z",
     "iopub.status.idle": "2024-02-13T10:48:02.725345Z",
     "shell.execute_reply": "2024-02-13T10:48:02.724502Z"
    },
    "papermill": {
     "duration": 0.699755,
     "end_time": "2024-02-13T10:48:02.727761",
     "exception": false,
     "start_time": "2024-02-13T10:48:02.028006",
     "status": "completed"
    },
    "tags": []
   },
   "outputs": [],
   "source": [
    "sns.scatterplot(x=\"cheque\", y=\"cash\", hue=\"risk\", data=table)\n",
    "plt.show()"
   ]
  },
  {
   "cell_type": "code",
   "execution_count": 0,
   "metadata": {
    "application/vnd.databricks.v1+cell": {
     "cellMetadata": {},
     "inputWidgets": {},
     "nuid": "1c005190-ee47-4004-99f6-fcd53b1d7b24",
     "showTitle": false,
     "title": ""
    },
    "execution": {
     "iopub.execute_input": "2024-02-13T10:48:02.767317Z",
     "iopub.status.busy": "2024-02-13T10:48:02.766865Z",
     "iopub.status.idle": "2024-02-13T10:48:03.433418Z",
     "shell.execute_reply": "2024-02-13T10:48:03.432619Z"
    },
    "papermill": {
     "duration": 0.688978,
     "end_time": "2024-02-13T10:48:03.435769",
     "exception": false,
     "start_time": "2024-02-13T10:48:02.746791",
     "status": "completed"
    },
    "tags": []
   },
   "outputs": [],
   "source": [
    "sns.scatterplot(x=\"wire\", y=\"cash\", hue='risk', data=table)\n",
    "plt.show()"
   ]
  },
  {
   "cell_type": "code",
   "execution_count": 0,
   "metadata": {
    "application/vnd.databricks.v1+cell": {
     "cellMetadata": {},
     "inputWidgets": {},
     "nuid": "43d2f269-7fd8-45d9-8a14-c045f68e8eed",
     "showTitle": false,
     "title": ""
    },
    "execution": {
     "iopub.execute_input": "2024-02-13T10:48:03.475925Z",
     "iopub.status.busy": "2024-02-13T10:48:03.475582Z",
     "iopub.status.idle": "2024-02-13T10:48:47.435283Z",
     "shell.execute_reply": "2024-02-13T10:48:47.434135Z"
    },
    "papermill": {
     "duration": 44.012155,
     "end_time": "2024-02-13T10:48:47.467242",
     "exception": false,
     "start_time": "2024-02-13T10:48:03.455087",
     "status": "completed"
    },
    "tags": []
   },
   "outputs": [],
   "source": [
    "sns.pairplot(table[num_cols])\n",
    "plt.title('All Num Cols')\n",
    "plt.show()"
   ]
  },
  {
   "cell_type": "code",
   "execution_count": 0,
   "metadata": {
    "application/vnd.databricks.v1+cell": {
     "cellMetadata": {},
     "inputWidgets": {},
     "nuid": "cf593c29-dd7c-4cb3-879c-f763967bf463",
     "showTitle": false,
     "title": ""
    },
    "execution": {
     "iopub.execute_input": "2024-02-13T10:48:47.523067Z",
     "iopub.status.busy": "2024-02-13T10:48:47.522699Z",
     "iopub.status.idle": "2024-02-13T10:48:50.080734Z",
     "shell.execute_reply": "2024-02-13T10:48:50.079312Z"
    },
    "papermill": {
     "duration": 2.588189,
     "end_time": "2024-02-13T10:48:50.082739",
     "exception": false,
     "start_time": "2024-02-13T10:48:47.494550",
     "status": "completed"
    },
    "tags": []
   },
   "outputs": [],
   "source": [
    "fig, axs = plt.subplots(nrows=2,ncols=4,figsize=(15,12))\n",
    "axs = axs.flatten()\n",
    "for i, col in enumerate(cat_cols):\n",
    "    sns.boxplot(x=col, y='total_amount', hue='risk', data=table, ax=axs[i])\n",
    "fig.tight_layout()\n",
    "plt.show()"
   ]
  },
  {
   "cell_type": "code",
   "execution_count": 0,
   "metadata": {
    "application/vnd.databricks.v1+cell": {
     "cellMetadata": {},
     "inputWidgets": {},
     "nuid": "23748645-426c-4d36-8c6a-56b874c4f65a",
     "showTitle": false,
     "title": ""
    },
    "execution": {
     "iopub.execute_input": "2024-02-13T10:48:50.142205Z",
     "iopub.status.busy": "2024-02-13T10:48:50.141855Z",
     "iopub.status.idle": "2024-02-13T10:48:50.521850Z",
     "shell.execute_reply": "2024-02-13T10:48:50.520314Z"
    },
    "papermill": {
     "duration": 0.413065,
     "end_time": "2024-02-13T10:48:50.524425",
     "exception": false,
     "start_time": "2024-02-13T10:48:50.111360",
     "status": "completed"
    },
    "tags": []
   },
   "outputs": [],
   "source": [
    "corr = table.corr()\n",
    "sns.heatmap(corr)"
   ]
  },
  {
   "cell_type": "markdown",
   "metadata": {
    "application/vnd.databricks.v1+cell": {
     "cellMetadata": {},
     "inputWidgets": {},
     "nuid": "5c79b95e-8763-45a1-a46e-98efe80b8f55",
     "showTitle": false,
     "title": ""
    },
    "papermill": {
     "duration": 0.029003,
     "end_time": "2024-02-13T10:48:50.582410",
     "exception": false,
     "start_time": "2024-02-13T10:48:50.553407",
     "status": "completed"
    },
    "tags": []
   },
   "source": [
    "# Encoding"
   ]
  },
  {
   "cell_type": "code",
   "execution_count": 0,
   "metadata": {
    "application/vnd.databricks.v1+cell": {
     "cellMetadata": {},
     "inputWidgets": {},
     "nuid": "44f86370-150f-4f4b-a674-a77a9922ca00",
     "showTitle": false,
     "title": ""
    },
    "execution": {
     "iopub.execute_input": "2024-02-13T10:48:50.642435Z",
     "iopub.status.busy": "2024-02-13T10:48:50.641975Z",
     "iopub.status.idle": "2024-02-13T10:48:50.647172Z",
     "shell.execute_reply": "2024-02-13T10:48:50.646558Z"
    },
    "papermill": {
     "duration": 0.036616,
     "end_time": "2024-02-13T10:48:50.648700",
     "exception": false,
     "start_time": "2024-02-13T10:48:50.612084",
     "status": "completed"
    },
    "tags": []
   },
   "outputs": [],
   "source": [
    "# Except credit_debit variables, all the categorical variables are hierarchic for this reason I use LabelEncoder\n",
    "\n",
    "cat_cols.remove(\"credit_debit\")\n",
    "cat_cols\n"
   ]
  },
  {
   "cell_type": "code",
   "execution_count": 0,
   "metadata": {
    "application/vnd.databricks.v1+cell": {
     "cellMetadata": {},
     "inputWidgets": {},
     "nuid": "9f74708a-a939-4cc2-a4a2-031dce2544e8",
     "showTitle": false,
     "title": ""
    },
    "execution": {
     "iopub.execute_input": "2024-02-13T10:48:50.709131Z",
     "iopub.status.busy": "2024-02-13T10:48:50.708626Z",
     "iopub.status.idle": "2024-02-13T10:48:50.753073Z",
     "shell.execute_reply": "2024-02-13T10:48:50.752255Z"
    },
    "papermill": {
     "duration": 0.077348,
     "end_time": "2024-02-13T10:48:50.754728",
     "exception": false,
     "start_time": "2024-02-13T10:48:50.677380",
     "status": "completed"
    },
    "tags": []
   },
   "outputs": [],
   "source": [
    "def label_encoder(dataframe, cols):\n",
    "    labelencoder = LabelEncoder()\n",
    "    dataframe[cols] = labelencoder.fit_transform(dataframe[cols])\n",
    "    return dataframe\n",
    "\n",
    "for col in cat_cols:\n",
    "    label_encoder(table,col)\n",
    "table.head()"
   ]
  },
  {
   "cell_type": "code",
   "execution_count": 0,
   "metadata": {
    "application/vnd.databricks.v1+cell": {
     "cellMetadata": {},
     "inputWidgets": {},
     "nuid": "bc83f409-8184-4ea3-b77f-7f69d6fa6da4",
     "showTitle": false,
     "title": ""
    },
    "execution": {
     "iopub.execute_input": "2024-02-13T10:48:50.815612Z",
     "iopub.status.busy": "2024-02-13T10:48:50.815131Z",
     "iopub.status.idle": "2024-02-13T10:48:50.834779Z",
     "shell.execute_reply": "2024-02-13T10:48:50.833792Z"
    },
    "papermill": {
     "duration": 0.052719,
     "end_time": "2024-02-13T10:48:50.837407",
     "exception": false,
     "start_time": "2024-02-13T10:48:50.784688",
     "status": "completed"
    },
    "tags": []
   },
   "outputs": [],
   "source": [
    "# Using get_dummies for credit_debit variable\n",
    "table = pd.get_dummies(table, columns=[\"credit_debit\"], drop_first=\"True\")\n",
    "table.head()"
   ]
  },
  {
   "cell_type": "code",
   "execution_count": 0,
   "metadata": {
    "application/vnd.databricks.v1+cell": {
     "cellMetadata": {},
     "inputWidgets": {},
     "nuid": "b9b685e9-ea50-45cf-8f79-b54921b11c88",
     "showTitle": false,
     "title": ""
    },
    "execution": {
     "iopub.execute_input": "2024-02-13T10:48:50.898903Z",
     "iopub.status.busy": "2024-02-13T10:48:50.898499Z",
     "iopub.status.idle": "2024-02-13T10:48:50.904606Z",
     "shell.execute_reply": "2024-02-13T10:48:50.903719Z"
    },
    "papermill": {
     "duration": 0.038568,
     "end_time": "2024-02-13T10:48:50.906331",
     "exception": false,
     "start_time": "2024-02-13T10:48:50.867763",
     "status": "completed"
    },
    "tags": []
   },
   "outputs": [],
   "source": [
    "num_cols.remove(\"risk\")\n",
    "num_cols"
   ]
  },
  {
   "cell_type": "code",
   "execution_count": 0,
   "metadata": {
    "application/vnd.databricks.v1+cell": {
     "cellMetadata": {},
     "inputWidgets": {},
     "nuid": "f818b850-edf4-4a5c-8ac3-03fceb79971b",
     "showTitle": false,
     "title": ""
    },
    "execution": {
     "iopub.execute_input": "2024-02-13T10:48:50.968497Z",
     "iopub.status.busy": "2024-02-13T10:48:50.968027Z",
     "iopub.status.idle": "2024-02-13T10:48:50.997166Z",
     "shell.execute_reply": "2024-02-13T10:48:50.996346Z"
    },
    "papermill": {
     "duration": 0.061862,
     "end_time": "2024-02-13T10:48:50.998875",
     "exception": false,
     "start_time": "2024-02-13T10:48:50.937013",
     "status": "completed"
    },
    "tags": []
   },
   "outputs": [],
   "source": [
    "# RobustScaler for numerical variables\n",
    "\n",
    "table[num_cols] = RobustScaler().fit_transform(table[num_cols])\n",
    "\n",
    "table.head()"
   ]
  },
  {
   "cell_type": "markdown",
   "metadata": {
    "application/vnd.databricks.v1+cell": {
     "cellMetadata": {},
     "inputWidgets": {},
     "nuid": "2490892c-905d-4f73-b3cd-9a4baad9ce22",
     "showTitle": false,
     "title": ""
    },
    "papermill": {
     "duration": 0.029283,
     "end_time": "2024-02-13T10:48:51.057929",
     "exception": false,
     "start_time": "2024-02-13T10:48:51.028646",
     "status": "completed"
    },
    "tags": []
   },
   "source": [
    "# Models"
   ]
  },
  {
   "cell_type": "markdown",
   "metadata": {
    "application/vnd.databricks.v1+cell": {
     "cellMetadata": {},
     "inputWidgets": {},
     "nuid": "edf393c6-aa31-420b-bac3-2ccfa5e1fc74",
     "showTitle": false,
     "title": ""
    },
    "papermill": {
     "duration": 0.029384,
     "end_time": "2024-02-13T10:48:51.116877",
     "exception": false,
     "start_time": "2024-02-13T10:48:51.087493",
     "status": "completed"
    },
    "tags": []
   },
   "source": [
    "### XGBoost"
   ]
  },
  {
   "cell_type": "code",
   "execution_count": 0,
   "metadata": {
    "application/vnd.databricks.v1+cell": {
     "cellMetadata": {},
     "inputWidgets": {},
     "nuid": "b8ddea03-e12a-4aef-9721-e4bed13bddfc",
     "showTitle": false,
     "title": ""
    },
    "execution": {
     "iopub.execute_input": "2024-02-13T10:48:51.178380Z",
     "iopub.status.busy": "2024-02-13T10:48:51.177434Z",
     "iopub.status.idle": "2024-02-13T10:48:52.665376Z",
     "shell.execute_reply": "2024-02-13T10:48:52.664256Z"
    },
    "papermill": {
     "duration": 1.521887,
     "end_time": "2024-02-13T10:48:52.668126",
     "exception": false,
     "start_time": "2024-02-13T10:48:51.146239",
     "status": "completed"
    },
    "tags": []
   },
   "outputs": [],
   "source": [
    "\n",
    "X = table.iloc[:, table.columns != \"risk\"]\n",
    "y = table.iloc[:, table.columns == \"risk\"]\n",
    "\n",
    "X_train, X_test, y_train, y_test  = train_test_split(X, y, test_size=0.20, random_state=1)\n",
    "\n",
    "xgb_model = XGBClassifier().fit(X_train, y_train)\n",
    "y_pred = xgb_model.predict(X_test)\n",
    "print(classification_report(y_test, y_pred))\n"
   ]
  },
  {
   "cell_type": "code",
   "execution_count": 0,
   "metadata": {
    "application/vnd.databricks.v1+cell": {
     "cellMetadata": {},
     "inputWidgets": {},
     "nuid": "f5841b0a-a1b2-4579-b0fd-dfb8fd467673",
     "showTitle": false,
     "title": ""
    },
    "execution": {
     "iopub.execute_input": "2024-02-13T10:48:52.735892Z",
     "iopub.status.busy": "2024-02-13T10:48:52.734564Z",
     "iopub.status.idle": "2024-02-13T10:48:52.932282Z",
     "shell.execute_reply": "2024-02-13T10:48:52.930991Z"
    },
    "papermill": {
     "duration": 0.23516,
     "end_time": "2024-02-13T10:48:52.934716",
     "exception": false,
     "start_time": "2024-02-13T10:48:52.699556",
     "status": "completed"
    },
    "tags": []
   },
   "outputs": [],
   "source": [
    "sns.heatmap(confusion_matrix(y_test,y_pred),annot=True,fmt='.2f')\n",
    "plt.show()"
   ]
  },
  {
   "cell_type": "markdown",
   "metadata": {
    "application/vnd.databricks.v1+cell": {
     "cellMetadata": {},
     "inputWidgets": {},
     "nuid": "fde9ba91-26a5-48e6-87f4-b833b3edd439",
     "showTitle": false,
     "title": ""
    },
    "papermill": {
     "duration": 0.031018,
     "end_time": "2024-02-13T10:48:52.996179",
     "exception": false,
     "start_time": "2024-02-13T10:48:52.965161",
     "status": "completed"
    },
    "tags": []
   },
   "source": [
    "### Random Forest"
   ]
  },
  {
   "cell_type": "code",
   "execution_count": 0,
   "metadata": {
    "application/vnd.databricks.v1+cell": {
     "cellMetadata": {},
     "inputWidgets": {},
     "nuid": "62899d14-633e-449a-84f0-4d2621ed7d4b",
     "showTitle": false,
     "title": ""
    },
    "execution": {
     "iopub.execute_input": "2024-02-13T10:48:53.061793Z",
     "iopub.status.busy": "2024-02-13T10:48:53.060783Z",
     "iopub.status.idle": "2024-02-13T10:48:55.031354Z",
     "shell.execute_reply": "2024-02-13T10:48:55.030261Z"
    },
    "papermill": {
     "duration": 2.005384,
     "end_time": "2024-02-13T10:48:55.033627",
     "exception": false,
     "start_time": "2024-02-13T10:48:53.028243",
     "status": "completed"
    },
    "tags": []
   },
   "outputs": [],
   "source": [
    "X = table.iloc[:, table.columns != \"risk\"]\n",
    "y = table.iloc[:, table.columns == \"risk\"]\n",
    "\n",
    "X_train, X_test, y_train, y_test  = train_test_split(X, y, test_size=0.20, random_state=1)\n",
    "\n",
    "rf_model = RandomForestClassifier().fit(X_train, y_train)\n",
    "y_pred = rf_model.predict(X_test)\n",
    "print(classification_report(y_test, y_pred))"
   ]
  },
  {
   "cell_type": "code",
   "execution_count": 0,
   "metadata": {
    "application/vnd.databricks.v1+cell": {
     "cellMetadata": {},
     "inputWidgets": {},
     "nuid": "a3c58907-5d3d-4bf1-ab39-27932e9b18f4",
     "showTitle": false,
     "title": ""
    },
    "execution": {
     "iopub.execute_input": "2024-02-13T10:48:55.099491Z",
     "iopub.status.busy": "2024-02-13T10:48:55.099147Z",
     "iopub.status.idle": "2024-02-13T10:48:55.291339Z",
     "shell.execute_reply": "2024-02-13T10:48:55.290511Z"
    },
    "papermill": {
     "duration": 0.226451,
     "end_time": "2024-02-13T10:48:55.292936",
     "exception": false,
     "start_time": "2024-02-13T10:48:55.066485",
     "status": "completed"
    },
    "tags": []
   },
   "outputs": [],
   "source": [
    "sns.heatmap(confusion_matrix(y_test,y_pred),annot=True,fmt='.2f')\n",
    "plt.show()"
   ]
  },
  {
   "cell_type": "markdown",
   "metadata": {
    "application/vnd.databricks.v1+cell": {
     "cellMetadata": {},
     "inputWidgets": {},
     "nuid": "4ebc6d31-2673-4f0a-8898-50c091bcaf23",
     "showTitle": false,
     "title": ""
    },
    "papermill": {
     "duration": 0.033136,
     "end_time": "2024-02-13T10:48:55.358253",
     "exception": false,
     "start_time": "2024-02-13T10:48:55.325117",
     "status": "completed"
    },
    "tags": []
   },
   "source": [
    "### LightGBM"
   ]
  },
  {
   "cell_type": "code",
   "execution_count": 0,
   "metadata": {
    "application/vnd.databricks.v1+cell": {
     "cellMetadata": {},
     "inputWidgets": {},
     "nuid": "3d7e14f3-b07e-4c47-8261-e40b4743f01a",
     "showTitle": false,
     "title": ""
    },
    "execution": {
     "iopub.execute_input": "2024-02-13T10:48:55.424792Z",
     "iopub.status.busy": "2024-02-13T10:48:55.424249Z",
     "iopub.status.idle": "2024-02-13T10:48:56.185035Z",
     "shell.execute_reply": "2024-02-13T10:48:56.183838Z"
    },
    "papermill": {
     "duration": 0.796609,
     "end_time": "2024-02-13T10:48:56.188001",
     "exception": false,
     "start_time": "2024-02-13T10:48:55.391392",
     "status": "completed"
    },
    "tags": []
   },
   "outputs": [],
   "source": [
    "X = table.iloc[:, table.columns != \"risk\"]\n",
    "y = table.iloc[:, table.columns == \"risk\"]\n",
    "\n",
    "X_train, X_test, y_train, y_test  = train_test_split(X, y, test_size=0.20, random_state=1)\n",
    "\n",
    "lgb_model = LGBMClassifier().fit(X_train, y_train)\n",
    "y_pred = lgb_model.predict(X_test)\n",
    "print(classification_report(y_test, y_pred))\n"
   ]
  },
  {
   "cell_type": "code",
   "execution_count": 0,
   "metadata": {
    "application/vnd.databricks.v1+cell": {
     "cellMetadata": {},
     "inputWidgets": {},
     "nuid": "1fa8f542-4f20-486e-95a1-d2d159d12de0",
     "showTitle": false,
     "title": ""
    },
    "execution": {
     "iopub.execute_input": "2024-02-13T10:48:56.253417Z",
     "iopub.status.busy": "2024-02-13T10:48:56.252874Z",
     "iopub.status.idle": "2024-02-13T10:48:56.445544Z",
     "shell.execute_reply": "2024-02-13T10:48:56.444803Z"
    },
    "papermill": {
     "duration": 0.227411,
     "end_time": "2024-02-13T10:48:56.447723",
     "exception": false,
     "start_time": "2024-02-13T10:48:56.220312",
     "status": "completed"
    },
    "tags": []
   },
   "outputs": [],
   "source": [
    "sns.heatmap(confusion_matrix(y_test,y_pred),annot=True,fmt='.2f')\n",
    "plt.show()"
   ]
  },
  {
   "cell_type": "markdown",
   "metadata": {
    "application/vnd.databricks.v1+cell": {
     "cellMetadata": {},
     "inputWidgets": {},
     "nuid": "b00ba9be-946b-4ca3-b5b7-1b9b9b8fc1c0",
     "showTitle": false,
     "title": ""
    },
    "papermill": {
     "duration": 0.031561,
     "end_time": "2024-02-13T10:48:56.511396",
     "exception": false,
     "start_time": "2024-02-13T10:48:56.479835",
     "status": "completed"
    },
    "tags": []
   },
   "source": [
    "### DecisionTree"
   ]
  },
  {
   "cell_type": "code",
   "execution_count": 0,
   "metadata": {
    "application/vnd.databricks.v1+cell": {
     "cellMetadata": {},
     "inputWidgets": {},
     "nuid": "496577bc-c515-4370-8abc-52ea4adee6e7",
     "showTitle": false,
     "title": ""
    },
    "execution": {
     "iopub.execute_input": "2024-02-13T10:48:56.577971Z",
     "iopub.status.busy": "2024-02-13T10:48:56.577384Z",
     "iopub.status.idle": "2024-02-13T10:48:56.679644Z",
     "shell.execute_reply": "2024-02-13T10:48:56.678979Z"
    },
    "papermill": {
     "duration": 0.13834,
     "end_time": "2024-02-13T10:48:56.681493",
     "exception": false,
     "start_time": "2024-02-13T10:48:56.543153",
     "status": "completed"
    },
    "tags": []
   },
   "outputs": [],
   "source": [
    "X = table.iloc[:, table.columns != \"risk\"]\n",
    "y = table.iloc[:, table.columns == \"risk\"]\n",
    "\n",
    "X_train, X_test, y_train, y_test  = train_test_split(X, y, test_size=0.20, random_state=1)\n",
    "dt_model = DecisionTreeClassifier().fit(X_train, y_train)\n",
    "y_pred = dt_model.predict(X_test)\n",
    "print(classification_report(y_test, y_pred))\n"
   ]
  },
  {
   "cell_type": "code",
   "execution_count": 0,
   "metadata": {
    "application/vnd.databricks.v1+cell": {
     "cellMetadata": {},
     "inputWidgets": {},
     "nuid": "145b4ac3-fba0-4e54-a502-e0859b77849a",
     "showTitle": false,
     "title": ""
    },
    "execution": {
     "iopub.execute_input": "2024-02-13T10:48:56.748563Z",
     "iopub.status.busy": "2024-02-13T10:48:56.747825Z",
     "iopub.status.idle": "2024-02-13T10:48:56.944162Z",
     "shell.execute_reply": "2024-02-13T10:48:56.943093Z"
    },
    "papermill": {
     "duration": 0.23311,
     "end_time": "2024-02-13T10:48:56.946246",
     "exception": false,
     "start_time": "2024-02-13T10:48:56.713136",
     "status": "completed"
    },
    "tags": []
   },
   "outputs": [],
   "source": [
    "sns.heatmap(confusion_matrix(y_test,y_pred),annot=True,fmt='.2f')\n",
    "plt.show()"
   ]
  },
  {
   "cell_type": "code",
   "execution_count": 0,
   "metadata": {
    "application/vnd.databricks.v1+cell": {
     "cellMetadata": {},
     "inputWidgets": {},
     "nuid": "8f3b362c-39fa-49cb-a9c2-33413adadffc",
     "showTitle": false,
     "title": ""
    },
    "execution": {
     "iopub.execute_input": "2024-02-13T10:48:57.011992Z",
     "iopub.status.busy": "2024-02-13T10:48:57.011429Z",
     "iopub.status.idle": "2024-02-13T10:48:58.886717Z",
     "shell.execute_reply": "2024-02-13T10:48:58.885816Z"
    },
    "papermill": {
     "duration": 1.910012,
     "end_time": "2024-02-13T10:48:58.888366",
     "exception": false,
     "start_time": "2024-02-13T10:48:56.978354",
     "status": "completed"
    },
    "tags": []
   },
   "outputs": [],
   "source": [
    "# RandomForest Model Tuning\n",
    "\n",
    "X = table.iloc[:, table.columns != \"risk\"]\n",
    "y = table.iloc[:, table.columns == \"risk\"]\n",
    "\n",
    "X_train, X_test, y_train, y_test  = train_test_split(X, y, test_size=0.20, random_state=1)\n",
    "\n",
    "\n",
    "rf_cv_model = RandomForestClassifier(max_depth=10, max_features=\"sqrt\", \n",
    "                                     min_samples_split=2).fit(X_train, y_train)\n",
    "y_pred = rf_cv_model.predict(X_test)\n",
    "print(classification_report(y_test, y_pred))"
   ]
  },
  {
   "cell_type": "code",
   "execution_count": 0,
   "metadata": {
    "application/vnd.databricks.v1+cell": {
     "cellMetadata": {},
     "inputWidgets": {},
     "nuid": "dc7ec5cd-0c59-4ea0-ba01-2fb53ef22e0f",
     "showTitle": false,
     "title": ""
    },
    "execution": {
     "iopub.execute_input": "2024-02-13T10:48:58.955314Z",
     "iopub.status.busy": "2024-02-13T10:48:58.954259Z",
     "iopub.status.idle": "2024-02-13T10:48:59.158244Z",
     "shell.execute_reply": "2024-02-13T10:48:59.157211Z"
    },
    "papermill": {
     "duration": 0.240316,
     "end_time": "2024-02-13T10:48:59.160493",
     "exception": false,
     "start_time": "2024-02-13T10:48:58.920177",
     "status": "completed"
    },
    "tags": []
   },
   "outputs": [],
   "source": [
    "sns.heatmap(confusion_matrix(y_test,y_pred),annot=True,fmt='.2f')\n",
    "plt.show()"
   ]
  },
  {
   "cell_type": "code",
   "execution_count": 0,
   "metadata": {
    "application/vnd.databricks.v1+cell": {
     "cellMetadata": {},
     "inputWidgets": {},
     "nuid": "ea001a35-9fc0-43d2-af26-26c8be6f34fc",
     "showTitle": false,
     "title": ""
    },
    "execution": {
     "iopub.execute_input": "2024-02-13T10:48:59.228367Z",
     "iopub.status.busy": "2024-02-13T10:48:59.228013Z",
     "iopub.status.idle": "2024-02-13T10:50:01.226490Z",
     "shell.execute_reply": "2024-02-13T10:50:01.224710Z"
    },
    "papermill": {
     "duration": 62.066903,
     "end_time": "2024-02-13T10:50:01.260824",
     "exception": false,
     "start_time": "2024-02-13T10:48:59.193921",
     "status": "completed"
    },
    "tags": []
   },
   "outputs": [],
   "source": [
    "# Validation Curve\n",
    "def val_score_param(model, X, y, param_name, param_range, scoring='roc_auc', cv=5):\n",
    "    train_score, test_score = validation_curve(model, X, y, param_name = param_name, param_range = param_range,\n",
    "                                              scoring = scoring, cv=cv)\n",
    "    mean_train_score = np.mean(train_score, axis=1)\n",
    "    mean_test_score = np.mean(test_score,axis=1)\n",
    "    \n",
    "    plt.plot(param_range, mean_train_score, label='Training Score', color='b')\n",
    "    plt.plot(param_range, mean_test_score, label='Validation Score', color='r')\n",
    "    \n",
    "    plt.title(f'Validation Curve For{type(model).__name__}')\n",
    "    plt.xlabel(f'Number of {param_range}')\n",
    "    plt.ylabel(f'{scoring}')\n",
    "    plt.tight_layout()\n",
    "    plt.legend(loc='best')\n",
    "    plt.show()\n",
    "val_score_param(rf_cv_model,X_train,y_train,param_name='max_depth',param_range=range(1,11), scoring='recall', cv=5)"
   ]
  },
  {
   "cell_type": "code",
   "execution_count": 0,
   "metadata": {
    "application/vnd.databricks.v1+cell": {
     "cellMetadata": {},
     "inputWidgets": {},
     "nuid": "77f709f4-2288-429b-9db4-7cd101312a28",
     "showTitle": false,
     "title": ""
    },
    "execution": {
     "iopub.execute_input": "2024-02-13T10:50:01.328657Z",
     "iopub.status.busy": "2024-02-13T10:50:01.328311Z",
     "iopub.status.idle": "2024-02-13T10:50:01.770188Z",
     "shell.execute_reply": "2024-02-13T10:50:01.769013Z"
    },
    "papermill": {
     "duration": 0.47915,
     "end_time": "2024-02-13T10:50:01.772215",
     "exception": false,
     "start_time": "2024-02-13T10:50:01.293065",
     "status": "completed"
    },
    "tags": []
   },
   "outputs": [],
   "source": [
    "def plot_importance(model, features, num=len(X),save=False):\n",
    "    feature_imp = pd.DataFrame({'Value':model.feature_importances_, 'Features':features.columns})\n",
    "    plt.figure(figsize=(6,4))\n",
    "    sns.set(font_scale=1)\n",
    "    sns.barplot(x='Value',y='Features',data=feature_imp.sort_values(by='Value',ascending=False)[0:num])\n",
    "    plt.title('Features')\n",
    "    plt.tight_layout()\n",
    "    plt.show()\n",
    "    if save:\n",
    "        plt.savefig('importance.png')\n",
    "plot_importance(rf_cv_model,X)"
   ]
  },
  {
   "cell_type": "code",
   "execution_count": 0,
   "metadata": {
    "application/vnd.databricks.v1+cell": {
     "cellMetadata": {},
     "inputWidgets": {},
     "nuid": "31714370-5c14-4d03-aaac-f33c3c6ba320",
     "showTitle": false,
     "title": ""
    },
    "execution": {
     "iopub.execute_input": "2024-02-13T10:50:01.840856Z",
     "iopub.status.busy": "2024-02-13T10:50:01.840293Z",
     "iopub.status.idle": "2024-02-13T10:50:02.185298Z",
     "shell.execute_reply": "2024-02-13T10:50:02.184067Z"
    },
    "papermill": {
     "duration": 0.380888,
     "end_time": "2024-02-13T10:50:02.187293",
     "exception": false,
     "start_time": "2024-02-13T10:50:01.806405",
     "status": "completed"
    },
    "tags": []
   },
   "outputs": [],
   "source": [
    "# ROC Graphs\n",
    "\n",
    "def plot_roc_auc_curve(model):\n",
    "    logit_roc_auc = roc_auc_score(y_test, model.predict(X_test))\n",
    "    fpr, tpr, thresholds = roc_curve(y_test, model.predict_proba(X_test)[:,1])\n",
    "    plt.figure()\n",
    "    plt.plot(fpr, tpr, label = \"AUC (area = %0.2f)\" % logit_roc_auc)\n",
    "    plt.plot([0,1], [0, 1], 'r--')\n",
    "    plt.xlim([0.0, 1.0])\n",
    "    plt.ylim([0.0, 1.05])\n",
    "    plt.xlabel('False Positive Rate')\n",
    "    plt.ylabel('True Positive Rate')\n",
    "    plt.title(\"ROC Curve\")\n",
    "    plt.show()\n",
    "plot_roc_auc_curve(rf_cv_model)"
   ]
  },
  {
   "cell_type": "code",
   "execution_count": 0,
   "metadata": {
    "application/vnd.databricks.v1+cell": {
     "cellMetadata": {},
     "inputWidgets": {},
     "nuid": "b9ce5355-7728-4b27-8ae8-633122f6ab82",
     "showTitle": false,
     "title": ""
    },
    "execution": {
     "iopub.execute_input": "2024-02-13T10:50:02.258624Z",
     "iopub.status.busy": "2024-02-13T10:50:02.258315Z",
     "iopub.status.idle": "2024-02-13T10:50:08.627437Z",
     "shell.execute_reply": "2024-02-13T10:50:08.625995Z"
    },
    "papermill": {
     "duration": 6.406854,
     "end_time": "2024-02-13T10:50:08.629331",
     "exception": false,
     "start_time": "2024-02-13T10:50:02.222477",
     "status": "completed"
    },
    "tags": []
   },
   "outputs": [],
   "source": [
    "# LightGBM Model Tuning\n",
    "\n",
    "X = table.iloc[:, table.columns != \"risk\"]\n",
    "y = table.iloc[:, table.columns == \"risk\"]\n",
    "\n",
    "X_train, X_test, y_train, y_test  = train_test_split(X, y, test_size=0.20, random_state=1)\n",
    "lgb_cv_model = LGBMClassifier(learning_rate=0.01, max_depth=10, subsample=0.6, \n",
    "                              n_estimators=1000, min_child_samples=10).fit(X_train, y_train)\n",
    "y_pred = lgb_cv_model.predict(X_test)\n",
    "print(classification_report(y_test, y_pred))"
   ]
  },
  {
   "cell_type": "markdown",
   "metadata": {
    "application/vnd.databricks.v1+cell": {
     "cellMetadata": {},
     "inputWidgets": {},
     "nuid": "9eda76fe-46bf-41b4-9e63-d6b9381e4872",
     "showTitle": false,
     "title": ""
    },
    "papermill": {
     "duration": 0.034353,
     "end_time": "2024-02-13T10:50:08.697910",
     "exception": false,
     "start_time": "2024-02-13T10:50:08.663557",
     "status": "completed"
    },
    "tags": []
   },
   "source": [
    "### Model Visualization with Shap(LightGBM)"
   ]
  },
  {
   "cell_type": "code",
   "execution_count": 0,
   "metadata": {
    "application/vnd.databricks.v1+cell": {
     "cellMetadata": {},
     "inputWidgets": {},
     "nuid": "214d7597-911a-4fa7-a72a-36e6be6df7ec",
     "showTitle": false,
     "title": ""
    },
    "execution": {
     "iopub.execute_input": "2024-02-13T10:50:08.766379Z",
     "iopub.status.busy": "2024-02-13T10:50:08.765638Z",
     "iopub.status.idle": "2024-02-13T10:50:13.582814Z",
     "shell.execute_reply": "2024-02-13T10:50:13.581780Z"
    },
    "papermill": {
     "duration": 4.853947,
     "end_time": "2024-02-13T10:50:13.585225",
     "exception": false,
     "start_time": "2024-02-13T10:50:08.731278",
     "status": "completed"
    },
    "tags": []
   },
   "outputs": [],
   "source": [
    "import shap\n",
    "shap.initjs()"
   ]
  },
  {
   "cell_type": "code",
   "execution_count": 0,
   "metadata": {
    "application/vnd.databricks.v1+cell": {
     "cellMetadata": {},
     "inputWidgets": {},
     "nuid": "94ac4f28-723b-4b00-afff-adf82a32e233",
     "showTitle": false,
     "title": ""
    },
    "execution": {
     "iopub.execute_input": "2024-02-13T10:50:13.666503Z",
     "iopub.status.busy": "2024-02-13T10:50:13.665762Z",
     "iopub.status.idle": "2024-02-13T10:50:26.226062Z",
     "shell.execute_reply": "2024-02-13T10:50:26.225343Z"
    },
    "papermill": {
     "duration": 12.602964,
     "end_time": "2024-02-13T10:50:26.228080",
     "exception": false,
     "start_time": "2024-02-13T10:50:13.625116",
     "status": "completed"
    },
    "tags": []
   },
   "outputs": [],
   "source": [
    "# Standard Shap Values\n",
    "\n",
    "\n",
    "shap_values = shap.TreeExplainer(lgb_cv_model).shap_values(X_test)\n"
   ]
  },
  {
   "cell_type": "code",
   "execution_count": 0,
   "metadata": {
    "application/vnd.databricks.v1+cell": {
     "cellMetadata": {},
     "inputWidgets": {},
     "nuid": "42cf0db2-5515-445e-99d0-df93b407c876",
     "showTitle": false,
     "title": ""
    },
    "execution": {
     "iopub.execute_input": "2024-02-13T10:50:26.304864Z",
     "iopub.status.busy": "2024-02-13T10:50:26.304213Z",
     "iopub.status.idle": "2024-02-13T10:50:26.669400Z",
     "shell.execute_reply": "2024-02-13T10:50:26.668218Z"
    },
    "papermill": {
     "duration": 0.40536,
     "end_time": "2024-02-13T10:50:26.671767",
     "exception": false,
     "start_time": "2024-02-13T10:50:26.266407",
     "status": "completed"
    },
    "tags": []
   },
   "outputs": [],
   "source": [
    "# Summary for model's variables\n",
    "\n",
    "shap.summary_plot(shap_values, X_test, plot_type=\"bar\")"
   ]
  },
  {
   "cell_type": "code",
   "execution_count": 0,
   "metadata": {
    "application/vnd.databricks.v1+cell": {
     "cellMetadata": {},
     "inputWidgets": {},
     "nuid": "ecd0d666-0351-4e28-8927-9e51daad842d",
     "showTitle": false,
     "title": ""
    },
    "execution": {
     "iopub.execute_input": "2024-02-13T10:50:26.752147Z",
     "iopub.status.busy": "2024-02-13T10:50:26.751792Z",
     "iopub.status.idle": "2024-02-13T10:50:27.171098Z",
     "shell.execute_reply": "2024-02-13T10:50:27.170147Z"
    },
    "papermill": {
     "duration": 0.461825,
     "end_time": "2024-02-13T10:50:27.172890",
     "exception": false,
     "start_time": "2024-02-13T10:50:26.711065",
     "status": "completed"
    },
    "tags": []
   },
   "outputs": [],
   "source": [
    "shap.dependence_plot(\"cus_status\", shap_values[1], X_test)"
   ]
  },
  {
   "cell_type": "code",
   "execution_count": 0,
   "metadata": {
    "application/vnd.databricks.v1+cell": {
     "cellMetadata": {},
     "inputWidgets": {},
     "nuid": "4b21370f-19ef-43cb-95cf-b16464c3e84c",
     "showTitle": false,
     "title": ""
    },
    "execution": {
     "iopub.execute_input": "2024-02-13T10:50:27.251458Z",
     "iopub.status.busy": "2024-02-13T10:50:27.251170Z",
     "iopub.status.idle": "2024-02-13T10:50:27.642780Z",
     "shell.execute_reply": "2024-02-13T10:50:27.641605Z"
    },
    "papermill": {
     "duration": 0.433578,
     "end_time": "2024-02-13T10:50:27.644795",
     "exception": false,
     "start_time": "2024-02-13T10:50:27.211217",
     "status": "completed"
    },
    "tags": []
   },
   "outputs": [],
   "source": [
    "shap.dependence_plot(\"total_amount\", shap_values[1], X_test)"
   ]
  },
  {
   "cell_type": "code",
   "execution_count": 0,
   "metadata": {
    "application/vnd.databricks.v1+cell": {
     "cellMetadata": {},
     "inputWidgets": {},
     "nuid": "bc50b5f0-04a9-4113-a3ee-4d0fe7090d14",
     "showTitle": false,
     "title": ""
    },
    "execution": {
     "iopub.execute_input": "2024-02-13T10:50:27.728052Z",
     "iopub.status.busy": "2024-02-13T10:50:27.727705Z",
     "iopub.status.idle": "2024-02-13T10:50:28.132314Z",
     "shell.execute_reply": "2024-02-13T10:50:28.130858Z"
    },
    "papermill": {
     "duration": 0.449191,
     "end_time": "2024-02-13T10:50:28.134721",
     "exception": false,
     "start_time": "2024-02-13T10:50:27.685530",
     "status": "completed"
    },
    "tags": []
   },
   "outputs": [],
   "source": [
    "shap.dependence_plot(\"cheque\", shap_values[1], X_test)"
   ]
  },
  {
   "cell_type": "code",
   "execution_count": 0,
   "metadata": {
    "application/vnd.databricks.v1+cell": {
     "cellMetadata": {},
     "inputWidgets": {},
     "nuid": "cb3ec790-288f-473d-8b97-1614b08ecdd6",
     "showTitle": false,
     "title": ""
    },
    "execution": {
     "iopub.execute_input": "2024-02-13T10:50:28.218621Z",
     "iopub.status.busy": "2024-02-13T10:50:28.217971Z",
     "iopub.status.idle": "2024-02-13T10:50:41.592188Z",
     "shell.execute_reply": "2024-02-13T10:50:41.591191Z"
    },
    "papermill": {
     "duration": 13.417543,
     "end_time": "2024-02-13T10:50:41.594039",
     "exception": false,
     "start_time": "2024-02-13T10:50:28.176496",
     "status": "completed"
    },
    "tags": []
   },
   "outputs": [],
   "source": [
    "from shap import Explainer, Explanation\n",
    "\n",
    "explainer = Explainer(lgb_cv_model)\n",
    "shap_values = explainer(X_test)\n",
    "np.shape(shap_values.values)"
   ]
  },
  {
   "cell_type": "code",
   "execution_count": 0,
   "metadata": {
    "application/vnd.databricks.v1+cell": {
     "cellMetadata": {},
     "inputWidgets": {},
     "nuid": "51b590c4-d9a7-4a93-9675-60f9fd6ad28e",
     "showTitle": false,
     "title": ""
    },
    "execution": {
     "iopub.execute_input": "2024-02-13T10:50:41.678691Z",
     "iopub.status.busy": "2024-02-13T10:50:41.678071Z",
     "iopub.status.idle": "2024-02-13T10:50:44.207586Z",
     "shell.execute_reply": "2024-02-13T10:50:44.206788Z"
    },
    "papermill": {
     "duration": 2.573199,
     "end_time": "2024-02-13T10:50:44.209424",
     "exception": false,
     "start_time": "2024-02-13T10:50:41.636225",
     "status": "completed"
    },
    "tags": []
   },
   "outputs": [],
   "source": [
    "# Features importance with Waterfall Plot\n",
    "\n",
    "exp = Explanation(shap_values[:,:,0], shap_values.base_values[:,0], X_test, feature_names=X_test.columns)\n",
    "idx = 1\n",
    "shap.plots.waterfall(exp[idx])"
   ]
  },
  {
   "cell_type": "code",
   "execution_count": 0,
   "metadata": {
    "application/vnd.databricks.v1+cell": {
     "cellMetadata": {},
     "inputWidgets": {},
     "nuid": "a269dde1-c333-48a7-8327-d4aa5d2e3f67",
     "showTitle": false,
     "title": ""
    },
    "execution": {
     "iopub.execute_input": "2024-02-13T10:50:44.307235Z",
     "iopub.status.busy": "2024-02-13T10:50:44.306941Z",
     "iopub.status.idle": "2024-02-13T10:50:44.313614Z",
     "shell.execute_reply": "2024-02-13T10:50:44.312810Z"
    },
    "papermill": {
     "duration": 0.051478,
     "end_time": "2024-02-13T10:50:44.315309",
     "exception": false,
     "start_time": "2024-02-13T10:50:44.263831",
     "status": "completed"
    },
    "tags": []
   },
   "outputs": [],
   "source": [
    "# Force Plot\n",
    "\n",
    "shap.plots.force(exp[idx])"
   ]
  },
  {
   "cell_type": "code",
   "execution_count": 0,
   "metadata": {
    "application/vnd.databricks.v1+cell": {
     "cellMetadata": {},
     "inputWidgets": {},
     "nuid": "122670da-d062-4d2f-804c-7718d4512cf2",
     "showTitle": false,
     "title": ""
    },
    "execution": {
     "iopub.execute_input": "2024-02-13T10:50:44.402965Z",
     "iopub.status.busy": "2024-02-13T10:50:44.402497Z",
     "iopub.status.idle": "2024-02-13T10:50:45.087990Z",
     "shell.execute_reply": "2024-02-13T10:50:45.086927Z"
    },
    "papermill": {
     "duration": 0.731827,
     "end_time": "2024-02-13T10:50:45.089986",
     "exception": false,
     "start_time": "2024-02-13T10:50:44.358159",
     "status": "completed"
    },
    "tags": []
   },
   "outputs": [],
   "source": [
    "# Beeswarm Plot\n",
    "\n",
    "shap.plots.beeswarm(shap_values[:,:,1])"
   ]
  },
  {
   "cell_type": "code",
   "execution_count": 0,
   "metadata": {
    "application/vnd.databricks.v1+cell": {
     "cellMetadata": {},
     "inputWidgets": {},
     "nuid": "d65c98ab-829c-4938-9e63-41d492693393",
     "showTitle": false,
     "title": ""
    },
    "execution": {
     "iopub.execute_input": "2024-02-13T10:50:45.178595Z",
     "iopub.status.busy": "2024-02-13T10:50:45.178247Z",
     "iopub.status.idle": "2024-02-13T10:50:45.449485Z",
     "shell.execute_reply": "2024-02-13T10:50:45.448440Z"
    },
    "papermill": {
     "duration": 0.318791,
     "end_time": "2024-02-13T10:50:45.451676",
     "exception": false,
     "start_time": "2024-02-13T10:50:45.132885",
     "status": "completed"
    },
    "tags": []
   },
   "outputs": [],
   "source": [
    "# Absolute Mean Shap\n",
    "\n",
    "shap.plots.bar(exp[idx])"
   ]
  },
  {
   "cell_type": "markdown",
   "metadata": {
    "application/vnd.databricks.v1+cell": {
     "cellMetadata": {},
     "inputWidgets": {},
     "nuid": "d12eaa56-a675-4075-870e-4c1fc8006a12",
     "showTitle": false,
     "title": ""
    },
    "execution": {
     "iopub.execute_input": "2023-07-08T18:55:25.021777Z",
     "iopub.status.busy": "2023-07-08T18:55:25.020600Z",
     "iopub.status.idle": "2023-07-08T18:55:25.031607Z",
     "shell.execute_reply": "2023-07-08T18:55:25.030108Z",
     "shell.execute_reply.started": "2023-07-08T18:55:25.021741Z"
    },
    "papermill": {
     "duration": 0.043589,
     "end_time": "2024-02-13T10:50:45.539242",
     "exception": false,
     "start_time": "2024-02-13T10:50:45.495653",
     "status": "completed"
    },
    "tags": []
   },
   "source": [
    "<div style=\"color:white;\n",
    "           display:fill;\n",
    "           border-radius:5px;\n",
    "           background-color:#5642C5;\n",
    "           font-size:110%;\n",
    "           font-family:Verdana;\n",
    "           letter-spacing:0.5px\">\n",
    "\n",
    "<p style=\"padding: 10px;\n",
    "              color:white;\">\n",
    "Thank you for supports and comments.✌️✌🏿\n",
    "    </br>\n",
    "You can follow me and my teammates: </br>\n",
    "Yunus Emre TURKOGLU: <a href=\"https://www.linkedin.com/in/yunus-emre-turkoglu/\" target=\"_blank\"><font color=white>Visit the Linkedin Profile</font></a> </br>\n",
    "Veysel ALEVCAN: <a href=\"https://www.linkedin.com/in/veyselalevcan/\" target=\"_blank\"><font color=white>Visit the Linkedin Profile</font></a></br>\n",
    "Burak DERVISOGLU: <a href=\"https://www.linkedin.com/in/burak-dervi%C5%9Fo%C4%9Flu-6363aa18b/\" target=\"_blank\"><font color=white>Visit the Linkedin Profile</font></a>    </br>\n",
    "Canan TAMTURK KARA: <a href=\"https://www.linkedin.com/in/canantamturkkara/\" target=\"_blank\"><font color=white>Visit the Linkedin Profile</font></a></br>\n",
    "Sercan AKI:  <a href=\"https://www.linkedin.com/in/sercan-aki/\" target=\"_blank\"><font color=white>Visit the Linkedin Profile</font></a>\n",
    "    \n",
    "</p>\n",
    "</div>\n"
   ]
  }
 ],
 "metadata": {
  "application/vnd.databricks.v1+notebook": {
   "dashboards": [],
   "language": "python",
   "notebookMetadata": {
    "pythonIndentUnit": 4
   },
   "notebookName": "anti-money-laundering-vis-by-shap",
   "widgets": {}
  },
  "kaggle": {
   "accelerator": "none",
   "dataSources": [
    {
     "datasetId": 3472445,
     "sourceId": 6067189,
     "sourceType": "datasetVersion"
    }
   ],
   "dockerImageVersionId": 30513,
   "isGpuEnabled": false,
   "isInternetEnabled": true,
   "language": "python",
   "sourceType": "notebook"
  },
  "kernelspec": {
   "display_name": "Python 3",
   "language": "python",
   "name": "python3"
  },
  "language_info": {
   "codemirror_mode": {
    "name": "ipython",
    "version": 3
   },
   "file_extension": ".py",
   "mimetype": "text/x-python",
   "name": "python",
   "nbconvert_exporter": "python",
   "pygments_lexer": "ipython3",
   "version": "3.10.10"
  },
  "papermill": {
   "default_parameters": {},
   "duration": 264.713215,
   "end_time": "2024-02-13T10:50:47.207467",
   "environment_variables": {},
   "exception": null,
   "input_path": "__notebook__.ipynb",
   "output_path": "__notebook__.ipynb",
   "parameters": {},
   "start_time": "2024-02-13T10:46:22.494252",
   "version": "2.4.0"
  }
 },
 "nbformat": 4,
 "nbformat_minor": 0
}
